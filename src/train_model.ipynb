{
 "cells": [
  {
   "cell_type": "code",
   "execution_count": 1,
   "id": "2868f2c7",
   "metadata": {},
   "outputs": [],
   "source": [
    "import os\n",
    "import pandas as pd\n",
    "import numpy as np\n",
    "import ast\n",
    "\n",
    "from sklearn.model_selection import train_test_split\n",
    "from sklearn.ensemble import RandomForestClassifier\n",
    "from sklearn.metrics import classification_report, accuracy_score\n",
    "\n",
    "from utils import load_pickle, save_pickle\n",
    "from imblearn.over_sampling import SMOTE\n",
    "from collections import Counter"
   ]
  },
  {
   "cell_type": "code",
   "execution_count": 2,
   "id": "cef85c29",
   "metadata": {},
   "outputs": [],
   "source": [
    "# Paths\n",
    "project_root = os.path.dirname(os.getcwd())\n",
    "\n",
    "encoded_data_path = os.path.join(project_root, \"data\", \"encoded_symptom_dataset.csv\")\n",
    "label_encoder_path = os.path.join(project_root, \"models\", \"label_encoder.pkl\")\n",
    "model_save_path = os.path.join(project_root, \"models\", \"disease_classifier.pkl\")\n"
   ]
  },
  {
   "cell_type": "code",
   "execution_count": 3,
   "id": "424e94f6",
   "metadata": {},
   "outputs": [
    {
     "name": "stdout",
     "output_type": "stream",
     "text": [
      "Object loaded from c:\\Users\\ACER\\gitClones\\DoctorSathiProject\\models\\label_encoder.pkl\n",
      "Data and Label Encoder loaded successfully!\n"
     ]
    }
   ],
   "source": [
    "# Load the dataset\n",
    "df = pd.read_csv(encoded_data_path)\n",
    "\n",
    "# Load the saved label encoder\n",
    "label_encoder = load_pickle(label_encoder_path)\n",
    "\n",
    "print(\"Data and Label Encoder loaded successfully!\")\n"
   ]
  },
  {
   "cell_type": "code",
   "execution_count": 4,
   "id": "04ac37a3",
   "metadata": {},
   "outputs": [
    {
     "name": "stdout",
     "output_type": "stream",
     "text": [
      "Feature shape: (457, 200)\n",
      "Labels shape: (457,)\n"
     ]
    }
   ],
   "source": [
    "# 'symptom_vector' column contains embeddings (but as strings in CSV)\n",
    "# Convert them back to numpy arrays\n",
    "X = np.vstack(df['symptom_vector'].apply(ast.literal_eval).values)\n",
    "\n",
    "# Labels\n",
    "y = df['label_encoded'].values\n",
    "\n",
    "print(f\"Feature shape: {X.shape}\")\n",
    "print(f\"Labels shape: {y.shape}\")\n"
   ]
  },
  {
   "cell_type": "code",
   "execution_count": 5,
   "id": "6393ee77",
   "metadata": {},
   "outputs": [
    {
     "name": "stdout",
     "output_type": "stream",
     "text": [
      "Training samples: 365\n",
      "Testing samples: 92\n"
     ]
    }
   ],
   "source": [
    "# Split the dataset\n",
    "X_train, X_test, y_train, y_test = train_test_split(\n",
    "    X, y, test_size=0.2, random_state=42, stratify=y\n",
    ")\n",
    "\n",
    "print(f\"Training samples: {X_train.shape[0]}\")\n",
    "print(f\"Testing samples: {X_test.shape[0]}\")"
   ]
  },
  {
   "cell_type": "code",
   "execution_count": 23,
   "id": "16f4530e",
   "metadata": {},
   "outputs": [
    {
     "name": "stdout",
     "output_type": "stream",
     "text": [
      "Model trained successfully!\n"
     ]
    }
   ],
   "source": [
    "# Initialize Random Forest Classifier\n",
    "clf = RandomForestClassifier(n_estimators=100, random_state=42)\n",
    "\n",
    "# Train the model\n",
    "clf.fit(X_train, y_train)\n",
    "\n",
    "print(\"Model trained successfully!\")"
   ]
  },
  {
   "cell_type": "code",
   "execution_count": 24,
   "id": "e89419f4",
   "metadata": {},
   "outputs": [
    {
     "name": "stdout",
     "output_type": "stream",
     "text": [
      "Classification Report:\n",
      "                                 precision    recall  f1-score   support\n",
      "\n",
      "                           Acne       0.00      0.00      0.00         1\n",
      "                      Arthritis       0.00      0.00      0.00         1\n",
      "               Bronchial Asthma       0.67      0.50      0.57         4\n",
      "           Cervical spondylosis       0.50      0.50      0.50         4\n",
      "                    Chicken pox       0.33      0.43      0.38         7\n",
      "                    Common Cold       0.33      0.33      0.33         3\n",
      "                         Dengue       0.31      0.44      0.36         9\n",
      "          Dimorphic Hemorrhoids       0.00      0.00      0.00         2\n",
      "               Fungal infection       0.00      0.00      0.00         2\n",
      "                   Hypertension       0.00      0.00      0.00         2\n",
      "                       Impetigo       0.60      0.75      0.67         4\n",
      "                       Jaundice       0.75      0.60      0.67         5\n",
      "                        Malaria       1.00      1.00      1.00         4\n",
      "                       Migraine       0.00      0.00      0.00         1\n",
      "                      Pneumonia       0.60      0.75      0.67         4\n",
      "                      Psoriasis       0.50      0.40      0.44         5\n",
      "                        Typhoid       0.50      0.78      0.61         9\n",
      "                 Varicose Veins       0.50      0.33      0.40         3\n",
      "                        allergy       0.50      0.80      0.62         5\n",
      "                       diabetes       1.00      0.33      0.50         3\n",
      "                  drug reaction       0.00      0.00      0.00         4\n",
      "gastroesophageal reflux disease       0.00      0.00      0.00         3\n",
      "           peptic ulcer disease       0.17      0.25      0.20         4\n",
      "        urinary tract infection       0.00      0.00      0.00         3\n",
      "\n",
      "                       accuracy                           0.45        92\n",
      "                      macro avg       0.34      0.34      0.33        92\n",
      "                   weighted avg       0.41      0.45      0.41        92\n",
      "\n",
      "Accuracy: 0.44565217391304346\n"
     ]
    },
    {
     "name": "stderr",
     "output_type": "stream",
     "text": [
      "c:\\Users\\ACER\\gitClones\\DoctorSathiProject\\env\\Lib\\site-packages\\sklearn\\metrics\\_classification.py:1565: UndefinedMetricWarning: Precision is ill-defined and being set to 0.0 in labels with no predicted samples. Use `zero_division` parameter to control this behavior.\n",
      "  _warn_prf(average, modifier, f\"{metric.capitalize()} is\", len(result))\n",
      "c:\\Users\\ACER\\gitClones\\DoctorSathiProject\\env\\Lib\\site-packages\\sklearn\\metrics\\_classification.py:1565: UndefinedMetricWarning: Precision is ill-defined and being set to 0.0 in labels with no predicted samples. Use `zero_division` parameter to control this behavior.\n",
      "  _warn_prf(average, modifier, f\"{metric.capitalize()} is\", len(result))\n",
      "c:\\Users\\ACER\\gitClones\\DoctorSathiProject\\env\\Lib\\site-packages\\sklearn\\metrics\\_classification.py:1565: UndefinedMetricWarning: Precision is ill-defined and being set to 0.0 in labels with no predicted samples. Use `zero_division` parameter to control this behavior.\n",
      "  _warn_prf(average, modifier, f\"{metric.capitalize()} is\", len(result))\n"
     ]
    }
   ],
   "source": [
    "# Predict on test set\n",
    "y_pred = clf.predict(X_test)\n",
    "\n",
    "# Evaluate\n",
    "print(\"Classification Report:\")\n",
    "print(classification_report(y_test, y_pred, target_names=label_encoder.classes_))\n",
    "\n",
    "print(\"Accuracy:\", accuracy_score(y_test, y_pred))\n"
   ]
  },
  {
   "cell_type": "code",
   "execution_count": 25,
   "id": "fdd23f25",
   "metadata": {},
   "outputs": [
    {
     "data": {
      "image/png": "[encoded data removed]",
      "text/plain": [
       "<Figure size 1500x500 with 1 Axes>"
      ]
     },
     "metadata": {},
     "output_type": "display_data"
    }
   ],
   "source": [
    "import matplotlib.pyplot as plt\n",
    "\n",
    "class_counts = pd.Series(y).value_counts()\n",
    "plt.figure(figsize=(15,5))\n",
    "class_counts.plot(kind='bar')\n",
    "plt.title('Samples per Disease')\n",
    "plt.show()\n"
   ]
  },
  {
   "cell_type": "code",
   "execution_count": 26,
   "id": "e2c142c2",
   "metadata": {},
   "outputs": [
    {
     "name": "stdout",
     "output_type": "stream",
     "text": [
      "Classification Report:\n",
      "                                 precision    recall  f1-score   support\n",
      "\n",
      "                           Acne       0.00      0.00      0.00         1\n",
      "                      Arthritis       0.25      1.00      0.40         1\n",
      "               Bronchial Asthma       0.67      0.50      0.57         4\n",
      "           Cervical spondylosis       0.67      0.50      0.57         4\n",
      "                    Chicken pox       0.36      0.57      0.44         7\n",
      "                    Common Cold       0.50      0.33      0.40         3\n",
      "                         Dengue       0.33      0.33      0.33         9\n",
      "          Dimorphic Hemorrhoids       0.00      0.00      0.00         2\n",
      "               Fungal infection       0.00      0.00      0.00         2\n",
      "                   Hypertension       0.00      0.00      0.00         2\n",
      "                       Impetigo       0.75      0.75      0.75         4\n",
      "                       Jaundice       0.75      0.60      0.67         5\n",
      "                        Malaria       1.00      1.00      1.00         4\n",
      "                       Migraine       0.00      0.00      0.00         1\n",
      "                      Pneumonia       0.60      0.75      0.67         4\n",
      "                      Psoriasis       0.67      0.40      0.50         5\n",
      "                        Typhoid       0.58      0.78      0.67         9\n",
      "                 Varicose Veins       0.50      0.33      0.40         3\n",
      "                        allergy       0.67      0.80      0.73         5\n",
      "                       diabetes       1.00      0.33      0.50         3\n",
      "                  drug reaction       0.00      0.00      0.00         4\n",
      "gastroesophageal reflux disease       0.00      0.00      0.00         3\n",
      "           peptic ulcer disease       0.25      0.50      0.33         4\n",
      "        urinary tract infection       0.00      0.00      0.00         3\n",
      "\n",
      "                       accuracy                           0.47        92\n",
      "                      macro avg       0.40      0.40      0.37        92\n",
      "                   weighted avg       0.47      0.47      0.45        92\n",
      "\n",
      "Accuracy: 0.4673913043478261\n"
     ]
    },
    {
     "name": "stderr",
     "output_type": "stream",
     "text": [
      "c:\\Users\\ACER\\gitClones\\DoctorSathiProject\\env\\Lib\\site-packages\\sklearn\\metrics\\_classification.py:1565: UndefinedMetricWarning: Precision is ill-defined and being set to 0.0 in labels with no predicted samples. Use `zero_division` parameter to control this behavior.\n",
      "  _warn_prf(average, modifier, f\"{metric.capitalize()} is\", len(result))\n",
      "c:\\Users\\ACER\\gitClones\\DoctorSathiProject\\env\\Lib\\site-packages\\sklearn\\metrics\\_classification.py:1565: UndefinedMetricWarning: Precision is ill-defined and being set to 0.0 in labels with no predicted samples. Use `zero_division` parameter to control this behavior.\n",
      "  _warn_prf(average, modifier, f\"{metric.capitalize()} is\", len(result))\n",
      "c:\\Users\\ACER\\gitClones\\DoctorSathiProject\\env\\Lib\\site-packages\\sklearn\\metrics\\_classification.py:1565: UndefinedMetricWarning: Precision is ill-defined and being set to 0.0 in labels with no predicted samples. Use `zero_division` parameter to control this behavior.\n",
      "  _warn_prf(average, modifier, f\"{metric.capitalize()} is\", len(result))\n"
     ]
    }
   ],
   "source": [
    "from sklearn.utils.class_weight import compute_class_weight\n",
    "clf = RandomForestClassifier(n_estimators=300, random_state=42, class_weight='balanced')\n",
    "clf.fit(X_train, y_train)\n",
    "# Predict\n",
    "y_pred = clf.predict(X_test)\n",
    "\n",
    "# Evaluate\n",
    "print(\"Classification Report:\")\n",
    "print(classification_report(y_test, y_pred, target_names=label_encoder.classes_))\n",
    "print(\"Accuracy:\", accuracy_score(y_test, y_pred))"
   ]
  },
  {
   "cell_type": "code",
   "execution_count": 6,
   "id": "e20df2aa",
   "metadata": {},
   "outputs": [
    {
     "name": "stdout",
     "output_type": "stream",
     "text": [
      "Original dataset shape: Counter({6: 47, 16: 43, 4: 35, 18: 27, 11: 25, 15: 24, 20: 21, 10: 20, 12: 20, 22: 20, 14: 19, 2: 19, 3: 19, 5: 17, 21: 17, 19: 16, 17: 15, 23: 13, 8: 10, 9: 9, 7: 8, 13: 6, 0: 4, 1: 3})\n"
     ]
    }
   ],
   "source": [
    "# BEFORE SMOTE\n",
    "print(\"Original dataset shape:\", Counter(y))"
   ]
  },
  {
   "cell_type": "code",
   "execution_count": 8,
   "id": "4b192344",
   "metadata": {},
   "outputs": [
    {
     "name": "stderr",
     "output_type": "stream",
     "text": [
      "c:\\Users\\ACER\\gitClones\\DoctorSathiProject\\env\\Lib\\site-packages\\joblib\\externals\\loky\\backend\\context.py:136: UserWarning: Could not find the number of physical cores for the following reason:\n",
      "[WinError 2] The system cannot find the file specified\n",
      "Returning the number of logical cores instead. You can silence this warning by setting LOKY_MAX_CPU_COUNT to the number of cores you want to use.\n",
      "  warnings.warn(\n",
      "  File \"c:\\Users\\ACER\\gitClones\\DoctorSathiProject\\env\\Lib\\site-packages\\joblib\\externals\\loky\\backend\\context.py\", line 257, in _count_physical_cores\n",
      "    cpu_info = subprocess.run(\n",
      "               ^^^^^^^^^^^^^^^\n",
      "  File \"C:\\Users\\ACER\\AppData\\Local\\Programs\\Python\\Python312\\Lib\\subprocess.py\", line 548, in run\n",
      "    with Popen(*popenargs, **kwargs) as process:\n",
      "         ^^^^^^^^^^^^^^^^^^^^^^^^^^^\n",
      "  File \"C:\\Users\\ACER\\AppData\\Local\\Programs\\Python\\Python312\\Lib\\subprocess.py\", line 1026, in __init__\n",
      "    self._execute_child(args, executable, preexec_fn, close_fds,\n",
      "  File \"C:\\Users\\ACER\\AppData\\Local\\Programs\\Python\\Python312\\Lib\\subprocess.py\", line 1538, in _execute_child\n",
      "    hp, ht, pid, tid = _winapi.CreateProcess(executable, args,\n",
      "                       ^^^^^^^^^^^^^^^^^^^^^^^^^^^^^^^^^^^^^^^\n"
     ]
    },
    {
     "name": "stdout",
     "output_type": "stream",
     "text": [
      "Resampled dataset shape: Counter({15: 47, 17: 47, 16: 47, 4: 47, 10: 47, 6: 47, 8: 47, 5: 47, 14: 47, 7: 47, 1: 47, 0: 47, 2: 47, 9: 47, 13: 47, 3: 47, 11: 47, 12: 47, 23: 47, 18: 47, 21: 47, 20: 47, 22: 47, 19: 47})\n"
     ]
    }
   ],
   "source": [
    "# Initialize SMOTE\n",
    "sm = SMOTE(random_state=42, k_neighbors=1)\n",
    "\n",
    "# Resample\n",
    "X_resampled, y_resampled = sm.fit_resample(X, y)\n",
    "\n",
    "# AFTER SMOTE\n",
    "print(\"Resampled dataset shape:\", Counter(y_resampled))"
   ]
  },
  {
   "cell_type": "code",
   "execution_count": 9,
   "id": "573dd5ec",
   "metadata": {},
   "outputs": [
    {
     "name": "stdout",
     "output_type": "stream",
     "text": [
      "Classification Report:\n",
      "                                 precision    recall  f1-score   support\n",
      "\n",
      "                           Acne       1.00      1.00      1.00         1\n",
      "                      Arthritis       0.25      1.00      0.40         1\n",
      "               Bronchial Asthma       1.00      0.50      0.67         4\n",
      "           Cervical spondylosis       1.00      0.75      0.86         4\n",
      "                    Chicken pox       0.83      0.71      0.77         7\n",
      "                    Common Cold       0.50      0.33      0.40         3\n",
      "                         Dengue       0.73      0.89      0.80         9\n",
      "          Dimorphic Hemorrhoids       1.00      1.00      1.00         2\n",
      "               Fungal infection       0.67      1.00      0.80         2\n",
      "                   Hypertension       1.00      0.50      0.67         2\n",
      "                       Impetigo       1.00      1.00      1.00         4\n",
      "                       Jaundice       1.00      0.60      0.75         5\n",
      "                        Malaria       1.00      1.00      1.00         4\n",
      "                       Migraine       1.00      1.00      1.00         1\n",
      "                      Pneumonia       0.60      0.75      0.67         4\n",
      "                      Psoriasis       0.60      0.60      0.60         5\n",
      "                        Typhoid       0.82      1.00      0.90         9\n",
      "                 Varicose Veins       1.00      0.67      0.80         3\n",
      "                        allergy       0.67      0.80      0.73         5\n",
      "                       diabetes       1.00      1.00      1.00         3\n",
      "                  drug reaction       1.00      0.50      0.67         4\n",
      "gastroesophageal reflux disease       1.00      0.67      0.80         3\n",
      "           peptic ulcer disease       0.67      1.00      0.80         4\n",
      "        urinary tract infection       1.00      1.00      1.00         3\n",
      "\n",
      "                       accuracy                           0.79        92\n",
      "                      macro avg       0.85      0.80      0.79        92\n",
      "                   weighted avg       0.84      0.79      0.79        92\n",
      "\n",
      "Accuracy: 0.7934782608695652\n"
     ]
    }
   ],
   "source": [
    "clf = RandomForestClassifier(n_estimators=300, random_state=42, class_weight='balanced')\n",
    "clf.fit(X_resampled, y_resampled)\n",
    "# Predict\n",
    "y_pred = clf.predict(X_test)\n",
    "\n",
    "# Evaluate\n",
    "print(\"Classification Report:\")\n",
    "print(classification_report(y_test, y_pred, target_names=label_encoder.classes_))\n",
    "print(\"Accuracy:\", accuracy_score(y_test, y_pred))"
   ]
  },
  {
   "cell_type": "code",
   "execution_count": null,
   "id": "64205228",
   "metadata": {},
   "outputs": [],
   "source": []
  }
 ],
 "metadata": {
  "kernelspec": {
   "display_name": "env",
   "language": "python",
   "name": "python3"
  },
  "language_info": {
   "codemirror_mode": {
    "name": "ipython",
    "version": 3
   },
   "file_extension": ".py",
   "mimetype": "text/x-python",
   "name": "python",
   "nbconvert_exporter": "python",
   "pygments_lexer": "ipython3",
   "version": "3.12.4"
  }
 },
 "nbformat": 4,
 "nbformat_minor": 5
}
