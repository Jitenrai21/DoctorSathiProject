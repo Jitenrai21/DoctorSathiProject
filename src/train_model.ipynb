{
 "cells": [
  {
   "cell_type": "code",
   "execution_count": 1,
   "id": "2868f2c7",
   "metadata": {},
   "outputs": [],
   "source": [
    "import os\n",
    "import pandas as pd\n",
    "import numpy as np\n",
    "import ast\n",
    "\n",
    "from sklearn.model_selection import train_test_split\n",
    "from sklearn.ensemble import RandomForestClassifier\n",
    "from sklearn.metrics import classification_report, accuracy_score\n",
    "\n",
    "from utils import load_pickle, save_pickle\n",
    "from imblearn.over_sampling import SMOTE\n",
    "from collections import Counter"
   ]
  },
  {
   "cell_type": "code",
   "execution_count": 2,
   "id": "cef85c29",
   "metadata": {},
   "outputs": [],
   "source": [
    "# Paths\n",
    "project_root = os.path.dirname(os.getcwd())\n",
    "\n",
    "encoded_data_path = os.path.join(project_root, \"data\", \"encoded_symptom_dataset.csv\")\n",
    "label_encoder_path = os.path.join(project_root, \"models\", \"label_encoder.pkl\")\n",
    "model_save_path = os.path.join(project_root, \"models\", \"disease_classifier.pkl\")\n"
   ]
  },
  {
   "cell_type": "code",
   "execution_count": 3,
   "id": "424e94f6",
   "metadata": {},
   "outputs": [
    {
     "name": "stdout",
     "output_type": "stream",
     "text": [
      "Object loaded from c:\\Users\\ACER\\gitClones\\DoctorSathiProject\\models\\label_encoder.pkl\n",
      "Data and Label Encoder loaded successfully!\n"
     ]
    }
   ],
   "source": [
    "# Load the dataset\n",
    "df = pd.read_csv(encoded_data_path)\n",
    "\n",
    "# Load the saved label encoder\n",
    "label_encoder = load_pickle(label_encoder_path)\n",
    "\n",
    "print(\"Data and Label Encoder loaded successfully!\")\n"
   ]
  },
  {
   "cell_type": "code",
   "execution_count": 4,
   "id": "04ac37a3",
   "metadata": {},
   "outputs": [
    {
     "name": "stdout",
     "output_type": "stream",
     "text": [
      "Feature shape: (457, 200)\n",
      "Labels shape: (457,)\n"
     ]
    }
   ],
   "source": [
    "# 'symptom_vector' column contains embeddings (but as strings in CSV)\n",
    "# Convert them back to numpy arrays\n",
    "X = np.vstack(df['symptom_vector'].apply(ast.literal_eval).values)\n",
    "\n",
    "# Labels\n",
    "y = df['label_encoded'].values\n",
    "\n",
    "print(f\"Feature shape: {X.shape}\")\n",
    "print(f\"Labels shape: {y.shape}\")\n"
   ]
  },
  {
   "cell_type": "code",
   "execution_count": 5,
   "id": "6393ee77",
   "metadata": {},
   "outputs": [
    {
     "name": "stdout",
     "output_type": "stream",
     "text": [
      "Training samples: 365\n",
      "Testing samples: 92\n"
     ]
    }
   ],
   "source": [
    "# Split the dataset\n",
    "X_train, X_test, y_train, y_test = train_test_split(\n",
    "    X, y, test_size=0.2, random_state=42, stratify=y\n",
    ")\n",
    "\n",
    "print(f\"Training samples: {X_train.shape[0]}\")\n",
    "print(f\"Testing samples: {X_test.shape[0]}\")"
   ]
  },
  {
   "cell_type": "code",
   "execution_count": 23,
   "id": "16f4530e",
   "metadata": {},
   "outputs": [
    {
     "name": "stdout",
     "output_type": "stream",
     "text": [
      "Model trained successfully!\n"
     ]
    }
   ],
   "source": [
    "# Initialize Random Forest Classifier\n",
    "clf = RandomForestClassifier(n_estimators=100, random_state=42)\n",
    "\n",
    "# Train the model\n",
    "clf.fit(X_train, y_train)\n",
    "\n",
    "print(\"Model trained successfully!\")"
   ]
  },
  {
   "cell_type": "code",
   "execution_count": 24,
   "id": "e89419f4",
   "metadata": {},
   "outputs": [
    {
     "name": "stdout",
     "output_type": "stream",
     "text": [
      "Classification Report:\n",
      "                                 precision    recall  f1-score   support\n",
      "\n",
      "                           Acne       0.00      0.00      0.00         1\n",
      "                      Arthritis       0.00      0.00      0.00         1\n",
      "               Bronchial Asthma       0.67      0.50      0.57         4\n",
      "           Cervical spondylosis       0.50      0.50      0.50         4\n",
      "                    Chicken pox       0.33      0.43      0.38         7\n",
      "                    Common Cold       0.33      0.33      0.33         3\n",
      "                         Dengue       0.31      0.44      0.36         9\n",
      "          Dimorphic Hemorrhoids       0.00      0.00      0.00         2\n",
      "               Fungal infection       0.00      0.00      0.00         2\n",
      "                   Hypertension       0.00      0.00      0.00         2\n",
      "                       Impetigo       0.60      0.75      0.67         4\n",
      "                       Jaundice       0.75      0.60      0.67         5\n",
      "                        Malaria       1.00      1.00      1.00         4\n",
      "                       Migraine       0.00      0.00      0.00         1\n",
      "                      Pneumonia       0.60      0.75      0.67         4\n",
      "                      Psoriasis       0.50      0.40      0.44         5\n",
      "                        Typhoid       0.50      0.78      0.61         9\n",
      "                 Varicose Veins       0.50      0.33      0.40         3\n",
      "                        allergy       0.50      0.80      0.62         5\n",
      "                       diabetes       1.00      0.33      0.50         3\n",
      "                  drug reaction       0.00      0.00      0.00         4\n",
      "gastroesophageal reflux disease       0.00      0.00      0.00         3\n",
      "           peptic ulcer disease       0.17      0.25      0.20         4\n",
      "        urinary tract infection       0.00      0.00      0.00         3\n",
      "\n",
      "                       accuracy                           0.45        92\n",
      "                      macro avg       0.34      0.34      0.33        92\n",
      "                   weighted avg       0.41      0.45      0.41        92\n",
      "\n",
      "Accuracy: 0.44565217391304346\n"
     ]
    },
    {
     "name": "stderr",
     "output_type": "stream",
     "text": [
      "c:\\Users\\ACER\\gitClones\\DoctorSathiProject\\env\\Lib\\site-packages\\sklearn\\metrics\\_classification.py:1565: UndefinedMetricWarning: Precision is ill-defined and being set to 0.0 in labels with no predicted samples. Use `zero_division` parameter to control this behavior.\n",
      "  _warn_prf(average, modifier, f\"{metric.capitalize()} is\", len(result))\n",
      "c:\\Users\\ACER\\gitClones\\DoctorSathiProject\\env\\Lib\\site-packages\\sklearn\\metrics\\_classification.py:1565: UndefinedMetricWarning: Precision is ill-defined and being set to 0.0 in labels with no predicted samples. Use `zero_division` parameter to control this behavior.\n",
      "  _warn_prf(average, modifier, f\"{metric.capitalize()} is\", len(result))\n",
      "c:\\Users\\ACER\\gitClones\\DoctorSathiProject\\env\\Lib\\site-packages\\sklearn\\metrics\\_classification.py:1565: UndefinedMetricWarning: Precision is ill-defined and being set to 0.0 in labels with no predicted samples. Use `zero_division` parameter to control this behavior.\n",
      "  _warn_prf(average, modifier, f\"{metric.capitalize()} is\", len(result))\n"
     ]
    }
   ],
   "source": [
    "# Predict on test set\n",
    "y_pred = clf.predict(X_test)\n",
    "\n",
    "# Evaluate\n",
    "print(\"Classification Report:\")\n",
    "print(classification_report(y_test, y_pred, target_names=label_encoder.classes_))\n",
    "\n",
    "print(\"Accuracy:\", accuracy_score(y_test, y_pred))\n"
   ]
  },
  {
   "cell_type": "code",
   "execution_count": 25,
   "id": "fdd23f25",
   "metadata": {},
   "outputs": [
    {
     "data": {
      "image/png": "[encoded data removed]",
      "text/plain": [
       "<Figure size 1500x500 with 1 Axes>"
      ]
     },
     "metadata": {},
     "output_type": "display_data"
    }
   ],
   "source": [
    "import matplotlib.pyplot as plt\n",
    "\n",
    "class_counts = pd.Series(y).value_counts()\n",
    "plt.figure(figsize=(15,5))\n",
    "class_counts.plot(kind='bar')\n",
    "plt.title('Samples per Disease')\n",
    "plt.show()\n"
   ]
  },
  {
   "cell_type": "code",
   "execution_count": 26,
   "id": "e2c142c2",
   "metadata": {},
   "outputs": [
    {
     "name": "stdout",
     "output_type": "stream",
     "text": [
      "Classification Report:\n",
      "                                 precision    recall  f1-score   support\n",
      "\n",
      "                           Acne       0.00      0.00      0.00         1\n",
      "                      Arthritis       0.25      1.00      0.40         1\n",
      "               Bronchial Asthma       0.67      0.50      0.57         4\n",
      "           Cervical spondylosis       0.67      0.50      0.57         4\n",
      "                    Chicken pox       0.36      0.57      0.44         7\n",
      "                    Common Cold       0.50      0.33      0.40         3\n",
      "                         Dengue       0.33      0.33      0.33         9\n",
      "          Dimorphic Hemorrhoids       0.00      0.00      0.00         2\n",
      "               Fungal infection       0.00      0.00      0.00         2\n",
      "                   Hypertension       0.00      0.00      0.00         2\n",
      "                       Impetigo       0.75      0.75      0.75         4\n",
      "                       Jaundice       0.75      0.60      0.67         5\n",
      "                        Malaria       1.00      1.00      1.00         4\n",
      "                       Migraine       0.00      0.00      0.00         1\n",
      "                      Pneumonia       0.60      0.75      0.67         4\n",
      "                      Psoriasis       0.67      0.40      0.50         5\n",
      "                        Typhoid       0.58      0.78      0.67         9\n",
      "                 Varicose Veins       0.50      0.33      0.40         3\n",
      "                        allergy       0.67      0.80      0.73         5\n",
      "                       diabetes       1.00      0.33      0.50         3\n",
      "                  drug reaction       0.00      0.00      0.00         4\n",
      "gastroesophageal reflux disease       0.00      0.00      0.00         3\n",
      "           peptic ulcer disease       0.25      0.50      0.33         4\n",
      "        urinary tract infection       0.00      0.00      0.00         3\n",
      "\n",
      "                       accuracy                           0.47        92\n",
      "                      macro avg       0.40      0.40      0.37        92\n",
      "                   weighted avg       0.47      0.47      0.45        92\n",
      "\n",
      "Accuracy: 0.4673913043478261\n"
     ]
    },
    {
     "name": "stderr",
     "output_type": "stream",
     "text": [
      "c:\\Users\\ACER\\gitClones\\DoctorSathiProject\\env\\Lib\\site-packages\\sklearn\\metrics\\_classification.py:1565: UndefinedMetricWarning: Precision is ill-defined and being set to 0.0 in labels with no predicted samples. Use `zero_division` parameter to control this behavior.\n",
      "  _warn_prf(average, modifier, f\"{metric.capitalize()} is\", len(result))\n",
      "c:\\Users\\ACER\\gitClones\\DoctorSathiProject\\env\\Lib\\site-packages\\sklearn\\metrics\\_classification.py:1565: UndefinedMetricWarning: Precision is ill-defined and being set to 0.0 in labels with no predicted samples. Use `zero_division` parameter to control this behavior.\n",
      "  _warn_prf(average, modifier, f\"{metric.capitalize()} is\", len(result))\n",
      "c:\\Users\\ACER\\gitClones\\DoctorSathiProject\\env\\Lib\\site-packages\\sklearn\\metrics\\_classification.py:1565: UndefinedMetricWarning: Precision is ill-defined and being set to 0.0 in labels with no predicted samples. Use `zero_division` parameter to control this behavior.\n",
      "  _warn_prf(average, modifier, f\"{metric.capitalize()} is\", len(result))\n"
     ]
    }
   ],
   "source": [
    "from sklearn.utils.class_weight import compute_class_weight\n",
    "clf = RandomForestClassifier(n_estimators=300, random_state=42, class_weight='balanced')\n",
    "clf.fit(X_train, y_train)\n",
    "# Predict\n",
    "y_pred = clf.predict(X_test)\n",
    "\n",
    "# Evaluate\n",
    "print(\"Classification Report:\")\n",
    "print(classification_report(y_test, y_pred, target_names=label_encoder.classes_))\n",
    "print(\"Accuracy:\", accuracy_score(y_test, y_pred))"
   ]
  },
  {
   "cell_type": "code",
   "execution_count": 6,
   "id": "e20df2aa",
   "metadata": {},
   "outputs": [
    {
     "name": "stdout",
     "output_type": "stream",
     "text": [
      "Original dataset shape: Counter({6: 47, 16: 43, 4: 35, 18: 27, 11: 25, 15: 24, 20: 21, 10: 20, 12: 20, 22: 20, 14: 19, 2: 19, 3: 19, 5: 17, 21: 17, 19: 16, 17: 15, 23: 13, 8: 10, 9: 9, 7: 8, 13: 6, 0: 4, 1: 3})\n"
     ]
    }
   ],
   "source": [
    "# BEFORE SMOTE\n",
    "print(\"Original dataset shape:\", Counter(y))"
   ]
  },
  {
   "cell_type": "markdown",
   "id": "1fc61482",
   "metadata": {},
   "source": [
    "# Data Augmentation For Imbalance"
   ]
  },
  {
   "cell_type": "code",
   "execution_count": 6,
   "id": "4b192344",
   "metadata": {},
   "outputs": [
    {
     "name": "stderr",
     "output_type": "stream",
     "text": [
      "c:\\Users\\ACER\\gitClones\\DoctorSathiProject\\env\\Lib\\site-packages\\joblib\\externals\\loky\\backend\\context.py:136: UserWarning: Could not find the number of physical cores for the following reason:\n",
      "[WinError 2] The system cannot find the file specified\n",
      "Returning the number of logical cores instead. You can silence this warning by setting LOKY_MAX_CPU_COUNT to the number of cores you want to use.\n",
      "  warnings.warn(\n",
      "  File \"c:\\Users\\ACER\\gitClones\\DoctorSathiProject\\env\\Lib\\site-packages\\joblib\\externals\\loky\\backend\\context.py\", line 257, in _count_physical_cores\n",
      "    cpu_info = subprocess.run(\n",
      "               ^^^^^^^^^^^^^^^\n",
      "  File \"C:\\Users\\ACER\\AppData\\Local\\Programs\\Python\\Python312\\Lib\\subprocess.py\", line 548, in run\n",
      "    with Popen(*popenargs, **kwargs) as process:\n",
      "         ^^^^^^^^^^^^^^^^^^^^^^^^^^^\n",
      "  File \"C:\\Users\\ACER\\AppData\\Local\\Programs\\Python\\Python312\\Lib\\subprocess.py\", line 1026, in __init__\n",
      "    self._execute_child(args, executable, preexec_fn, close_fds,\n",
      "  File \"C:\\Users\\ACER\\AppData\\Local\\Programs\\Python\\Python312\\Lib\\subprocess.py\", line 1538, in _execute_child\n",
      "    hp, ht, pid, tid = _winapi.CreateProcess(executable, args,\n",
      "                       ^^^^^^^^^^^^^^^^^^^^^^^^^^^^^^^^^^^^^^^\n"
     ]
    },
    {
     "name": "stdout",
     "output_type": "stream",
     "text": [
      "Resampled dataset shape: Counter({15: 47, 17: 47, 16: 47, 4: 47, 10: 47, 6: 47, 8: 47, 5: 47, 14: 47, 7: 47, 1: 47, 0: 47, 2: 47, 9: 47, 13: 47, 3: 47, 11: 47, 12: 47, 23: 47, 18: 47, 21: 47, 20: 47, 22: 47, 19: 47})\n"
     ]
    }
   ],
   "source": [
    "# Initialize SMOTE\n",
    "sm = SMOTE(random_state=42, k_neighbors=1)\n",
    "\n",
    "# Resample\n",
    "X_resampled, y_resampled = sm.fit_resample(X, y)\n",
    "\n",
    "# AFTER SMOTE\n",
    "print(\"Resampled dataset shape:\", Counter(y_resampled))"
   ]
  },
  {
   "cell_type": "markdown",
   "id": "35a8f557",
   "metadata": {},
   "source": [
    "# Random Forest Classifier"
   ]
  },
  {
   "cell_type": "code",
   "execution_count": 9,
   "id": "573dd5ec",
   "metadata": {},
   "outputs": [
    {
     "name": "stdout",
     "output_type": "stream",
     "text": [
      "Classification Report:\n",
      "                                 precision    recall  f1-score   support\n",
      "\n",
      "                           Acne       1.00      1.00      1.00         1\n",
      "                      Arthritis       0.25      1.00      0.40         1\n",
      "               Bronchial Asthma       1.00      0.50      0.67         4\n",
      "           Cervical spondylosis       1.00      0.75      0.86         4\n",
      "                    Chicken pox       0.83      0.71      0.77         7\n",
      "                    Common Cold       0.50      0.33      0.40         3\n",
      "                         Dengue       0.73      0.89      0.80         9\n",
      "          Dimorphic Hemorrhoids       1.00      1.00      1.00         2\n",
      "               Fungal infection       0.67      1.00      0.80         2\n",
      "                   Hypertension       1.00      0.50      0.67         2\n",
      "                       Impetigo       1.00      1.00      1.00         4\n",
      "                       Jaundice       1.00      0.60      0.75         5\n",
      "                        Malaria       1.00      1.00      1.00         4\n",
      "                       Migraine       1.00      1.00      1.00         1\n",
      "                      Pneumonia       0.60      0.75      0.67         4\n",
      "                      Psoriasis       0.60      0.60      0.60         5\n",
      "                        Typhoid       0.82      1.00      0.90         9\n",
      "                 Varicose Veins       1.00      0.67      0.80         3\n",
      "                        allergy       0.67      0.80      0.73         5\n",
      "                       diabetes       1.00      1.00      1.00         3\n",
      "                  drug reaction       1.00      0.50      0.67         4\n",
      "gastroesophageal reflux disease       1.00      0.67      0.80         3\n",
      "           peptic ulcer disease       0.67      1.00      0.80         4\n",
      "        urinary tract infection       1.00      1.00      1.00         3\n",
      "\n",
      "                       accuracy                           0.79        92\n",
      "                      macro avg       0.85      0.80      0.79        92\n",
      "                   weighted avg       0.84      0.79      0.79        92\n",
      "\n",
      "Accuracy: 0.7934782608695652\n"
     ]
    }
   ],
   "source": [
    "clf = RandomForestClassifier(n_estimators=300, random_state=42, class_weight='balanced')\n",
    "clf.fit(X_resampled, y_resampled)\n",
    "# Predict\n",
    "y_pred = clf.predict(X_test)\n",
    "\n",
    "# Evaluate\n",
    "print(\"Classification Report:\")\n",
    "print(classification_report(y_test, y_pred, target_names=label_encoder.classes_))\n",
    "print(\"Accuracy:\", accuracy_score(y_test, y_pred))"
   ]
  },
  {
   "cell_type": "markdown",
   "id": "f49b9978",
   "metadata": {},
   "source": [
    "# RandomForestClassifier with Hyper Parameter Tuning"
   ]
  },
  {
   "cell_type": "code",
   "execution_count": 24,
   "id": "e2bc6844",
   "metadata": {},
   "outputs": [
    {
     "name": "stdout",
     "output_type": "stream",
     "text": [
      "Best parameters: {'max_depth': None, 'min_samples_leaf': 1, 'min_samples_split': 2, 'n_estimators': 200}\n"
     ]
    }
   ],
   "source": [
    "from sklearn.model_selection import GridSearchCV\n",
    "param_grid = {\n",
    "    'n_estimators': [50, 100, 200],\n",
    "    'max_depth': [None, 10, 20],\n",
    "    'min_samples_split': [2, 5, 10],\n",
    "    'min_samples_leaf': [1, 2, 4]\n",
    "}\n",
    "grid_search = GridSearchCV(RandomForestClassifier(random_state=42), param_grid, cv=5, scoring='f1_macro')\n",
    "grid_search.fit(X_resampled, y_resampled)\n",
    "print(f\"Best parameters: {grid_search.best_params_}\")\n",
    "clf = grid_search.best_estimator_"
   ]
  },
  {
   "cell_type": "code",
   "execution_count": 27,
   "id": "7c940e53",
   "metadata": {},
   "outputs": [
    {
     "name": "stdout",
     "output_type": "stream",
     "text": [
      "Classification Report:\n",
      "              precision    recall  f1-score   support\n",
      "\n",
      "           0       1.00      1.00      1.00         1\n",
      "           1       0.25      1.00      0.40         1\n",
      "           2       0.75      0.75      0.75         4\n",
      "           3       1.00      0.75      0.86         4\n",
      "           4       0.83      0.71      0.77         7\n",
      "           5       0.50      0.33      0.40         3\n",
      "           6       0.73      0.89      0.80         9\n",
      "           7       1.00      1.00      1.00         2\n",
      "           8       0.67      1.00      0.80         2\n",
      "           9       1.00      0.50      0.67         2\n",
      "          10       1.00      1.00      1.00         4\n",
      "          11       1.00      0.60      0.75         5\n",
      "          12       1.00      1.00      1.00         4\n",
      "          13       1.00      1.00      1.00         1\n",
      "          14       0.60      0.75      0.67         4\n",
      "          15       1.00      0.60      0.75         5\n",
      "          16       0.82      1.00      0.90         9\n",
      "          17       1.00      0.67      0.80         3\n",
      "          18       0.57      0.80      0.67         5\n",
      "          19       1.00      1.00      1.00         3\n",
      "          20       1.00      0.50      0.67         4\n",
      "          21       1.00      0.67      0.80         3\n",
      "          22       0.67      1.00      0.80         4\n",
      "          23       1.00      0.67      0.80         3\n",
      "\n",
      "    accuracy                           0.79        92\n",
      "   macro avg       0.85      0.80      0.79        92\n",
      "weighted avg       0.85      0.79      0.80        92\n",
      "\n",
      "Accuracy: 0.7934782608695652\n"
     ]
    }
   ],
   "source": [
    "clf = RandomForestClassifier(\n",
    "    n_estimators=200,\n",
    "    max_depth=None,\n",
    "    min_samples_split=2,\n",
    "    min_samples_leaf=1,\n",
    "    random_state=42\n",
    ")\n",
    "clf.fit(X_resampled, y_resampled)\n",
    "\n",
    "# Predict on test set\n",
    "y_pred = clf.predict(X_test)\n",
    "\n",
    "target_names = [str(label) for label in label_encoder.classes_]\n",
    "# Print evaluation metrics\n",
    "print(\"Classification Report:\")\n",
    "print(classification_report(y_test, y_pred, target_names=target_names))\n",
    "print(\"Accuracy:\", accuracy_score(y_test, y_pred))"
   ]
  },
  {
   "cell_type": "code",
   "execution_count": 10,
   "id": "64205228",
   "metadata": {},
   "outputs": [
    {
     "name": "stderr",
     "output_type": "stream",
     "text": [
      "c:\\Users\\ACER\\gitClones\\DoctorSathiProject\\env\\Lib\\site-packages\\xgboost\\training.py:183: UserWarning: [18:44:38] WARNING: C:\\actions-runner\\_work\\xgboost\\xgboost\\src\\learner.cc:738: \n",
      "Parameters: { \"use_label_encoder\" } are not used.\n",
      "\n",
      "  bst.update(dtrain, iteration=i, fobj=obj)\n"
     ]
    },
    {
     "name": "stdout",
     "output_type": "stream",
     "text": [
      "XGBoost Classification Report:\n",
      "                                 precision    recall  f1-score   support\n",
      "\n",
      "                           Acne       1.00      1.00      1.00         1\n",
      "                      Arthritis       0.00      0.00      0.00         1\n",
      "               Bronchial Asthma       1.00      0.50      0.67         4\n",
      "           Cervical spondylosis       1.00      0.75      0.86         4\n",
      "                    Chicken pox       0.86      0.86      0.86         7\n",
      "                    Common Cold       1.00      0.33      0.50         3\n",
      "                         Dengue       0.82      1.00      0.90         9\n",
      "          Dimorphic Hemorrhoids       1.00      1.00      1.00         2\n",
      "               Fungal infection       0.67      1.00      0.80         2\n",
      "                   Hypertension       1.00      0.50      0.67         2\n",
      "                       Impetigo       1.00      0.75      0.86         4\n",
      "                       Jaundice       1.00      0.60      0.75         5\n",
      "                        Malaria       1.00      1.00      1.00         4\n",
      "                       Migraine       1.00      1.00      1.00         1\n",
      "                      Pneumonia       0.67      1.00      0.80         4\n",
      "                      Psoriasis       1.00      0.60      0.75         5\n",
      "                        Typhoid       0.90      1.00      0.95         9\n",
      "                 Varicose Veins       0.29      0.67      0.40         3\n",
      "                        allergy       0.71      1.00      0.83         5\n",
      "                       diabetes       1.00      1.00      1.00         3\n",
      "                  drug reaction       0.67      0.50      0.57         4\n",
      "gastroesophageal reflux disease       1.00      1.00      1.00         3\n",
      "           peptic ulcer disease       1.00      0.75      0.86         4\n",
      "        urinary tract infection       0.50      0.67      0.57         3\n",
      "\n",
      "                       accuracy                           0.80        92\n",
      "                      macro avg       0.84      0.77      0.77        92\n",
      "                   weighted avg       0.86      0.80      0.81        92\n",
      "\n",
      "Accuracy: 0.8043478260869565\n"
     ]
    }
   ],
   "source": [
    "from xgboost import XGBClassifier\n",
    "\n",
    "xgb = XGBClassifier(n_estimators=300, use_label_encoder=False, eval_metric='mlogloss', random_state=42)\n",
    "xgb.fit(X_resampled, y_resampled)\n",
    "\n",
    "y_pred_xgb = xgb.predict(X_test)\n",
    "\n",
    "print(\"XGBoost Classification Report:\")\n",
    "print(classification_report(y_test, y_pred_xgb, target_names=label_encoder.classes_))\n",
    "print(\"Accuracy:\", accuracy_score(y_test, y_pred_xgb))"
   ]
  },
  {
   "cell_type": "code",
   "execution_count": 15,
   "id": "437f96c9",
   "metadata": {},
   "outputs": [],
   "source": [
    "# Fit the label encoder on the full set of original labels\n",
    "label_encoder.fit(y)  # Use the full original dataset labels (before train-test split)\n",
    "\n",
    "# Then transform your resampled and test labels\n",
    "y_resampled_enc = label_encoder.transform(y_resampled)\n",
    "y_test_enc = label_encoder.transform(y_test)\n",
    "\n",
    "# One-hot encode\n",
    "y_resampled_cat = to_categorical(y_resampled_enc)\n",
    "y_test_cat = to_categorical(y_test_enc)\n"
   ]
  },
  {
   "cell_type": "markdown",
   "id": "88780d70",
   "metadata": {},
   "source": [
    "# Neural Network Architecture"
   ]
  },
  {
   "cell_type": "code",
   "execution_count": null,
   "id": "1522ff58",
   "metadata": {},
   "outputs": [],
   "source": [
    "from tensorflow import keras\n",
    "from keras.models import Sequential\n",
    "from keras.layers import Dense, Dropout\n",
    "from keras.utils import to_categorical"
   ]
  },
  {
   "cell_type": "code",
   "execution_count": null,
   "id": "b97a130f",
   "metadata": {},
   "outputs": [
    {
     "name": "stderr",
     "output_type": "stream",
     "text": [
      "c:\\Users\\ACER\\gitClones\\DoctorSathiProject\\env\\Lib\\site-packages\\keras\\src\\layers\\core\\dense.py:87: UserWarning: Do not pass an `input_shape`/`input_dim` argument to a layer. When using Sequential models, prefer using an `Input(shape)` object as the first layer in the model instead.\n",
      "  super().__init__(activity_regularizer=activity_regularizer, **kwargs)\n"
     ]
    },
    {
     "data": {
      "text/html": [
       "<pre style=\"white-space:pre;overflow-x:auto;line-height:normal;font-family:Menlo,'DejaVu Sans Mono',consolas,'Courier New',monospace\"><span style=\"font-weight: bold\">Model: \"sequential\"</span>\n",
       "</pre>\n"
      ],
      "text/plain": [
       "\u001b[1mModel: \"sequential\"\u001b[0m\n"
      ]
     },
     "metadata": {},
     "output_type": "display_data"
    },
    {
     "data": {
      "text/html": [
       "<pre style=\"white-space:pre;overflow-x:auto;line-height:normal;font-family:Menlo,'DejaVu Sans Mono',consolas,'Courier New',monospace\">┏━━━━━━━━━━━━━━━━━━━━━━━━━━━━━━━━━┳━━━━━━━━━━━━━━━━━━━━━━━━┳━━━━━━━━━━━━━━━┓\n",
       "┃<span style=\"font-weight: bold\"> Layer (type)                    </span>┃<span style=\"font-weight: bold\"> Output Shape           </span>┃<span style=\"font-weight: bold\">       Param # </span>┃\n",
       "┡━━━━━━━━━━━━━━━━━━━━━━━━━━━━━━━━━╇━━━━━━━━━━━━━━━━━━━━━━━━╇━━━━━━━━━━━━━━━┩\n",
       "│ dense (<span style=\"color: #0087ff; text-decoration-color: #0087ff\">Dense</span>)                   │ (<span style=\"color: #00d7ff; text-decoration-color: #00d7ff\">None</span>, <span style=\"color: #00af00; text-decoration-color: #00af00\">128</span>)            │        <span style=\"color: #00af00; text-decoration-color: #00af00\">25,728</span> │\n",
       "├─────────────────────────────────┼────────────────────────┼───────────────┤\n",
       "│ dropout (<span style=\"color: #0087ff; text-decoration-color: #0087ff\">Dropout</span>)               │ (<span style=\"color: #00d7ff; text-decoration-color: #00d7ff\">None</span>, <span style=\"color: #00af00; text-decoration-color: #00af00\">128</span>)            │             <span style=\"color: #00af00; text-decoration-color: #00af00\">0</span> │\n",
       "├─────────────────────────────────┼────────────────────────┼───────────────┤\n",
       "│ dense_1 (<span style=\"color: #0087ff; text-decoration-color: #0087ff\">Dense</span>)                 │ (<span style=\"color: #00d7ff; text-decoration-color: #00d7ff\">None</span>, <span style=\"color: #00af00; text-decoration-color: #00af00\">64</span>)             │         <span style=\"color: #00af00; text-decoration-color: #00af00\">8,256</span> │\n",
       "├─────────────────────────────────┼────────────────────────┼───────────────┤\n",
       "│ dropout_1 (<span style=\"color: #0087ff; text-decoration-color: #0087ff\">Dropout</span>)             │ (<span style=\"color: #00d7ff; text-decoration-color: #00d7ff\">None</span>, <span style=\"color: #00af00; text-decoration-color: #00af00\">64</span>)             │             <span style=\"color: #00af00; text-decoration-color: #00af00\">0</span> │\n",
       "├─────────────────────────────────┼────────────────────────┼───────────────┤\n",
       "│ dense_2 (<span style=\"color: #0087ff; text-decoration-color: #0087ff\">Dense</span>)                 │ (<span style=\"color: #00d7ff; text-decoration-color: #00d7ff\">None</span>, <span style=\"color: #00af00; text-decoration-color: #00af00\">24</span>)             │         <span style=\"color: #00af00; text-decoration-color: #00af00\">1,560</span> │\n",
       "└─────────────────────────────────┴────────────────────────┴───────────────┘\n",
       "</pre>\n"
      ],
      "text/plain": [
       "┏━━━━━━━━━━━━━━━━━━━━━━━━━━━━━━━━━┳━━━━━━━━━━━━━━━━━━━━━━━━┳━━━━━━━━━━━━━━━┓\n",
       "┃\u001b[1m \u001b[0m\u001b[1mLayer (type)                   \u001b[0m\u001b[1m \u001b[0m┃\u001b[1m \u001b[0m\u001b[1mOutput Shape          \u001b[0m\u001b[1m \u001b[0m┃\u001b[1m \u001b[0m\u001b[1m      Param #\u001b[0m\u001b[1m \u001b[0m┃\n",
       "┡━━━━━━━━━━━━━━━━━━━━━━━━━━━━━━━━━╇━━━━━━━━━━━━━━━━━━━━━━━━╇━━━━━━━━━━━━━━━┩\n",
       "│ dense (\u001b[38;5;33mDense\u001b[0m)                   │ (\u001b[38;5;45mNone\u001b[0m, \u001b[38;5;34m128\u001b[0m)            │        \u001b[38;5;34m25,728\u001b[0m │\n",
       "├─────────────────────────────────┼────────────────────────┼───────────────┤\n",
       "│ dropout (\u001b[38;5;33mDropout\u001b[0m)               │ (\u001b[38;5;45mNone\u001b[0m, \u001b[38;5;34m128\u001b[0m)            │             \u001b[38;5;34m0\u001b[0m │\n",
       "├─────────────────────────────────┼────────────────────────┼───────────────┤\n",
       "│ dense_1 (\u001b[38;5;33mDense\u001b[0m)                 │ (\u001b[38;5;45mNone\u001b[0m, \u001b[38;5;34m64\u001b[0m)             │         \u001b[38;5;34m8,256\u001b[0m │\n",
       "├─────────────────────────────────┼────────────────────────┼───────────────┤\n",
       "│ dropout_1 (\u001b[38;5;33mDropout\u001b[0m)             │ (\u001b[38;5;45mNone\u001b[0m, \u001b[38;5;34m64\u001b[0m)             │             \u001b[38;5;34m0\u001b[0m │\n",
       "├─────────────────────────────────┼────────────────────────┼───────────────┤\n",
       "│ dense_2 (\u001b[38;5;33mDense\u001b[0m)                 │ (\u001b[38;5;45mNone\u001b[0m, \u001b[38;5;34m24\u001b[0m)             │         \u001b[38;5;34m1,560\u001b[0m │\n",
       "└─────────────────────────────────┴────────────────────────┴───────────────┘\n"
      ]
     },
     "metadata": {},
     "output_type": "display_data"
    },
    {
     "data": {
      "text/html": [
       "<pre style=\"white-space:pre;overflow-x:auto;line-height:normal;font-family:Menlo,'DejaVu Sans Mono',consolas,'Courier New',monospace\"><span style=\"font-weight: bold\"> Total params: </span><span style=\"color: #00af00; text-decoration-color: #00af00\">35,544</span> (138.84 KB)\n",
       "</pre>\n"
      ],
      "text/plain": [
       "\u001b[1m Total params: \u001b[0m\u001b[38;5;34m35,544\u001b[0m (138.84 KB)\n"
      ]
     },
     "metadata": {},
     "output_type": "display_data"
    },
    {
     "data": {
      "text/html": [
       "<pre style=\"white-space:pre;overflow-x:auto;line-height:normal;font-family:Menlo,'DejaVu Sans Mono',consolas,'Courier New',monospace\"><span style=\"font-weight: bold\"> Trainable params: </span><span style=\"color: #00af00; text-decoration-color: #00af00\">35,544</span> (138.84 KB)\n",
       "</pre>\n"
      ],
      "text/plain": [
       "\u001b[1m Trainable params: \u001b[0m\u001b[38;5;34m35,544\u001b[0m (138.84 KB)\n"
      ]
     },
     "metadata": {},
     "output_type": "display_data"
    },
    {
     "data": {
      "text/html": [
       "<pre style=\"white-space:pre;overflow-x:auto;line-height:normal;font-family:Menlo,'DejaVu Sans Mono',consolas,'Courier New',monospace\"><span style=\"font-weight: bold\"> Non-trainable params: </span><span style=\"color: #00af00; text-decoration-color: #00af00\">0</span> (0.00 B)\n",
       "</pre>\n"
      ],
      "text/plain": [
       "\u001b[1m Non-trainable params: \u001b[0m\u001b[38;5;34m0\u001b[0m (0.00 B)\n"
      ]
     },
     "metadata": {},
     "output_type": "display_data"
    }
   ],
   "source": [
    "# Convert labels to one-hot encoding\n",
    "y_resampled_cat = to_categorical(y_resampled)\n",
    "y_test_cat = to_categorical(label_encoder.transform(y_test))  # Only if y_test is still in string format\n",
    "\n",
    "model = Sequential()\n",
    "model.add(Dense(128, input_dim=X_resampled.shape[1], activation='relu'))\n",
    "model.add(Dropout(0.3))\n",
    "model.add(Dense(64, activation='relu'))\n",
    "model.add(Dropout(0.3))\n",
    "model.add(Dense(y_resampled_cat.shape[1], activation='softmax'))\n",
    "\n",
    "model.summary()"
   ]
  },
  {
   "cell_type": "code",
   "execution_count": 17,
   "id": "f6319f6f",
   "metadata": {},
   "outputs": [
    {
     "name": "stdout",
     "output_type": "stream",
     "text": [
      "Epoch 1/50\n",
      "\u001b[1m32/32\u001b[0m \u001b[32m━━━━━━━━━━━━━━━━━━━━\u001b[0m\u001b[37m\u001b[0m \u001b[1m2s\u001b[0m 12ms/step - accuracy: 0.0591 - loss: 3.1581 - val_accuracy: 0.0088 - val_loss: 3.4403\n",
      "Epoch 2/50\n",
      "\u001b[1m32/32\u001b[0m \u001b[32m━━━━━━━━━━━━━━━━━━━━\u001b[0m\u001b[37m\u001b[0m \u001b[1m0s\u001b[0m 5ms/step - accuracy: 0.2237 - loss: 2.8226 - val_accuracy: 0.0442 - val_loss: 3.4752\n",
      "Epoch 3/50\n",
      "\u001b[1m32/32\u001b[0m \u001b[32m━━━━━━━━━━━━━━━━━━━━\u001b[0m\u001b[37m\u001b[0m \u001b[1m0s\u001b[0m 5ms/step - accuracy: 0.3224 - loss: 2.4926 - val_accuracy: 0.0088 - val_loss: 3.7320\n",
      "Epoch 4/50\n",
      "\u001b[1m32/32\u001b[0m \u001b[32m━━━━━━━━━━━━━━━━━━━━\u001b[0m\u001b[37m\u001b[0m \u001b[1m0s\u001b[0m 5ms/step - accuracy: 0.4100 - loss: 2.1831 - val_accuracy: 0.1062 - val_loss: 3.4359\n",
      "Epoch 5/50\n",
      "\u001b[1m32/32\u001b[0m \u001b[32m━━━━━━━━━━━━━━━━━━━━\u001b[0m\u001b[37m\u001b[0m \u001b[1m0s\u001b[0m 5ms/step - accuracy: 0.4366 - loss: 2.0701 - val_accuracy: 0.1150 - val_loss: 3.4245\n",
      "Epoch 6/50\n",
      "\u001b[1m32/32\u001b[0m \u001b[32m━━━━━━━━━━━━━━━━━━━━\u001b[0m\u001b[37m\u001b[0m \u001b[1m0s\u001b[0m 5ms/step - accuracy: 0.5050 - loss: 1.8038 - val_accuracy: 0.1593 - val_loss: 3.0883\n",
      "Epoch 7/50\n",
      "\u001b[1m32/32\u001b[0m \u001b[32m━━━━━━━━━━━━━━━━━━━━\u001b[0m\u001b[37m\u001b[0m \u001b[1m0s\u001b[0m 5ms/step - accuracy: 0.5305 - loss: 1.6526 - val_accuracy: 0.2124 - val_loss: 2.8198\n",
      "Epoch 8/50\n",
      "\u001b[1m32/32\u001b[0m \u001b[32m━━━━━━━━━━━━━━━━━━━━\u001b[0m\u001b[37m\u001b[0m \u001b[1m0s\u001b[0m 5ms/step - accuracy: 0.5148 - loss: 1.5843 - val_accuracy: 0.3186 - val_loss: 2.6304\n",
      "Epoch 9/50\n",
      "\u001b[1m32/32\u001b[0m \u001b[32m━━━━━━━━━━━━━━━━━━━━\u001b[0m\u001b[37m\u001b[0m \u001b[1m0s\u001b[0m 5ms/step - accuracy: 0.5790 - loss: 1.4758 - val_accuracy: 0.4071 - val_loss: 2.4304\n",
      "Epoch 10/50\n",
      "\u001b[1m32/32\u001b[0m \u001b[32m━━━━━━━━━━━━━━━━━━━━\u001b[0m\u001b[37m\u001b[0m \u001b[1m0s\u001b[0m 6ms/step - accuracy: 0.5931 - loss: 1.4360 - val_accuracy: 0.4956 - val_loss: 2.2724\n",
      "Epoch 11/50\n",
      "\u001b[1m32/32\u001b[0m \u001b[32m━━━━━━━━━━━━━━━━━━━━\u001b[0m\u001b[37m\u001b[0m \u001b[1m0s\u001b[0m 5ms/step - accuracy: 0.6004 - loss: 1.3680 - val_accuracy: 0.4513 - val_loss: 2.1352\n",
      "Epoch 12/50\n",
      "\u001b[1m32/32\u001b[0m \u001b[32m━━━━━━━━━━━━━━━━━━━━\u001b[0m\u001b[37m\u001b[0m \u001b[1m0s\u001b[0m 5ms/step - accuracy: 0.5942 - loss: 1.3245 - val_accuracy: 0.4956 - val_loss: 2.0539\n",
      "Epoch 13/50\n",
      "\u001b[1m32/32\u001b[0m \u001b[32m━━━━━━━━━━━━━━━━━━━━\u001b[0m\u001b[37m\u001b[0m \u001b[1m0s\u001b[0m 6ms/step - accuracy: 0.6442 - loss: 1.2380 - val_accuracy: 0.5310 - val_loss: 2.0376\n",
      "Epoch 14/50\n",
      "\u001b[1m32/32\u001b[0m \u001b[32m━━━━━━━━━━━━━━━━━━━━\u001b[0m\u001b[37m\u001b[0m \u001b[1m0s\u001b[0m 5ms/step - accuracy: 0.6196 - loss: 1.2997 - val_accuracy: 0.5841 - val_loss: 1.8669\n",
      "Epoch 15/50\n",
      "\u001b[1m32/32\u001b[0m \u001b[32m━━━━━━━━━━━━━━━━━━━━\u001b[0m\u001b[37m\u001b[0m \u001b[1m0s\u001b[0m 6ms/step - accuracy: 0.6292 - loss: 1.2510 - val_accuracy: 0.4690 - val_loss: 1.8708\n",
      "Epoch 16/50\n",
      "\u001b[1m32/32\u001b[0m \u001b[32m━━━━━━━━━━━━━━━━━━━━\u001b[0m\u001b[37m\u001b[0m \u001b[1m0s\u001b[0m 5ms/step - accuracy: 0.6235 - loss: 1.2221 - val_accuracy: 0.5487 - val_loss: 1.7818\n",
      "Epoch 17/50\n",
      "\u001b[1m32/32\u001b[0m \u001b[32m━━━━━━━━━━━━━━━━━━━━\u001b[0m\u001b[37m\u001b[0m \u001b[1m0s\u001b[0m 5ms/step - accuracy: 0.6706 - loss: 1.0796 - val_accuracy: 0.5575 - val_loss: 1.6982\n",
      "Epoch 18/50\n",
      "\u001b[1m32/32\u001b[0m \u001b[32m━━━━━━━━━━━━━━━━━━━━\u001b[0m\u001b[37m\u001b[0m \u001b[1m0s\u001b[0m 5ms/step - accuracy: 0.6689 - loss: 1.1841 - val_accuracy: 0.5929 - val_loss: 1.7229\n",
      "Epoch 19/50\n",
      "\u001b[1m32/32\u001b[0m \u001b[32m━━━━━━━━━━━━━━━━━━━━\u001b[0m\u001b[37m\u001b[0m \u001b[1m0s\u001b[0m 5ms/step - accuracy: 0.6575 - loss: 1.1303 - val_accuracy: 0.5221 - val_loss: 1.6150\n",
      "Epoch 20/50\n",
      "\u001b[1m32/32\u001b[0m \u001b[32m━━━━━━━━━━━━━━━━━━━━\u001b[0m\u001b[37m\u001b[0m \u001b[1m0s\u001b[0m 5ms/step - accuracy: 0.6696 - loss: 1.0495 - val_accuracy: 0.5310 - val_loss: 1.6511\n",
      "Epoch 21/50\n",
      "\u001b[1m32/32\u001b[0m \u001b[32m━━━━━━━━━━━━━━━━━━━━\u001b[0m\u001b[37m\u001b[0m \u001b[1m0s\u001b[0m 5ms/step - accuracy: 0.6802 - loss: 1.0941 - val_accuracy: 0.5929 - val_loss: 1.5812\n",
      "Epoch 22/50\n",
      "\u001b[1m32/32\u001b[0m \u001b[32m━━━━━━━━━━━━━━━━━━━━\u001b[0m\u001b[37m\u001b[0m \u001b[1m0s\u001b[0m 5ms/step - accuracy: 0.6764 - loss: 1.0657 - val_accuracy: 0.6106 - val_loss: 1.4033\n",
      "Epoch 23/50\n",
      "\u001b[1m32/32\u001b[0m \u001b[32m━━━━━━━━━━━━━━━━━━━━\u001b[0m\u001b[37m\u001b[0m \u001b[1m0s\u001b[0m 5ms/step - accuracy: 0.6842 - loss: 1.0484 - val_accuracy: 0.6106 - val_loss: 1.4946\n",
      "Epoch 24/50\n",
      "\u001b[1m32/32\u001b[0m \u001b[32m━━━━━━━━━━━━━━━━━━━━\u001b[0m\u001b[37m\u001b[0m \u001b[1m0s\u001b[0m 5ms/step - accuracy: 0.6700 - loss: 1.0651 - val_accuracy: 0.6283 - val_loss: 1.3589\n",
      "Epoch 25/50\n",
      "\u001b[1m32/32\u001b[0m \u001b[32m━━━━━━━━━━━━━━━━━━━━\u001b[0m\u001b[37m\u001b[0m \u001b[1m0s\u001b[0m 5ms/step - accuracy: 0.6881 - loss: 1.0678 - val_accuracy: 0.6018 - val_loss: 1.3125\n",
      "Epoch 26/50\n",
      "\u001b[1m32/32\u001b[0m \u001b[32m━━━━━━━━━━━━━━━━━━━━\u001b[0m\u001b[37m\u001b[0m \u001b[1m0s\u001b[0m 5ms/step - accuracy: 0.6982 - loss: 0.9997 - val_accuracy: 0.5752 - val_loss: 1.3941\n",
      "Epoch 27/50\n",
      "\u001b[1m32/32\u001b[0m \u001b[32m━━━━━━━━━━━━━━━━━━━━\u001b[0m\u001b[37m\u001b[0m \u001b[1m0s\u001b[0m 5ms/step - accuracy: 0.7116 - loss: 0.9577 - val_accuracy: 0.6460 - val_loss: 1.2992\n",
      "Epoch 28/50\n",
      "\u001b[1m32/32\u001b[0m \u001b[32m━━━━━━━━━━━━━━━━━━━━\u001b[0m\u001b[37m\u001b[0m \u001b[1m0s\u001b[0m 5ms/step - accuracy: 0.6977 - loss: 0.9622 - val_accuracy: 0.6283 - val_loss: 1.3553\n",
      "Epoch 29/50\n",
      "\u001b[1m32/32\u001b[0m \u001b[32m━━━━━━━━━━━━━━━━━━━━\u001b[0m\u001b[37m\u001b[0m \u001b[1m0s\u001b[0m 5ms/step - accuracy: 0.7259 - loss: 0.9347 - val_accuracy: 0.5752 - val_loss: 1.3334\n",
      "Epoch 30/50\n",
      "\u001b[1m32/32\u001b[0m \u001b[32m━━━━━━━━━━━━━━━━━━━━\u001b[0m\u001b[37m\u001b[0m \u001b[1m0s\u001b[0m 5ms/step - accuracy: 0.7170 - loss: 0.9147 - val_accuracy: 0.6283 - val_loss: 1.2950\n",
      "Epoch 31/50\n",
      "\u001b[1m32/32\u001b[0m \u001b[32m━━━━━━━━━━━━━━━━━━━━\u001b[0m\u001b[37m\u001b[0m \u001b[1m0s\u001b[0m 5ms/step - accuracy: 0.7084 - loss: 0.9542 - val_accuracy: 0.6195 - val_loss: 1.2842\n",
      "Epoch 32/50\n",
      "\u001b[1m32/32\u001b[0m \u001b[32m━━━━━━━━━━━━━━━━━━━━\u001b[0m\u001b[37m\u001b[0m \u001b[1m0s\u001b[0m 5ms/step - accuracy: 0.7319 - loss: 0.8605 - val_accuracy: 0.6283 - val_loss: 1.3722\n",
      "Epoch 33/50\n",
      "\u001b[1m32/32\u001b[0m \u001b[32m━━━━━━━━━━━━━━━━━━━━\u001b[0m\u001b[37m\u001b[0m \u001b[1m0s\u001b[0m 5ms/step - accuracy: 0.7135 - loss: 0.9141 - val_accuracy: 0.6106 - val_loss: 1.3094\n",
      "Epoch 34/50\n",
      "\u001b[1m32/32\u001b[0m \u001b[32m━━━━━━━━━━━━━━━━━━━━\u001b[0m\u001b[37m\u001b[0m \u001b[1m0s\u001b[0m 5ms/step - accuracy: 0.7227 - loss: 0.8922 - val_accuracy: 0.6018 - val_loss: 1.2334\n",
      "Epoch 35/50\n",
      "\u001b[1m32/32\u001b[0m \u001b[32m━━━━━━━━━━━━━━━━━━━━\u001b[0m\u001b[37m\u001b[0m \u001b[1m0s\u001b[0m 5ms/step - accuracy: 0.7329 - loss: 0.8583 - val_accuracy: 0.6372 - val_loss: 1.2087\n",
      "Epoch 36/50\n",
      "\u001b[1m32/32\u001b[0m \u001b[32m━━━━━━━━━━━━━━━━━━━━\u001b[0m\u001b[37m\u001b[0m \u001b[1m0s\u001b[0m 5ms/step - accuracy: 0.7351 - loss: 0.8945 - val_accuracy: 0.6372 - val_loss: 1.2258\n",
      "Epoch 37/50\n",
      "\u001b[1m32/32\u001b[0m \u001b[32m━━━━━━━━━━━━━━━━━━━━\u001b[0m\u001b[37m\u001b[0m \u001b[1m0s\u001b[0m 5ms/step - accuracy: 0.7403 - loss: 0.8252 - val_accuracy: 0.6195 - val_loss: 1.2096\n",
      "Epoch 38/50\n",
      "\u001b[1m32/32\u001b[0m \u001b[32m━━━━━━━━━━━━━━━━━━━━\u001b[0m\u001b[37m\u001b[0m \u001b[1m0s\u001b[0m 5ms/step - accuracy: 0.7278 - loss: 0.8356 - val_accuracy: 0.6018 - val_loss: 1.2219\n",
      "Epoch 39/50\n",
      "\u001b[1m32/32\u001b[0m \u001b[32m━━━━━━━━━━━━━━━━━━━━\u001b[0m\u001b[37m\u001b[0m \u001b[1m0s\u001b[0m 5ms/step - accuracy: 0.7564 - loss: 0.7946 - val_accuracy: 0.6372 - val_loss: 1.1415\n",
      "Epoch 40/50\n",
      "\u001b[1m32/32\u001b[0m \u001b[32m━━━━━━━━━━━━━━━━━━━━\u001b[0m\u001b[37m\u001b[0m \u001b[1m0s\u001b[0m 5ms/step - accuracy: 0.7414 - loss: 0.8159 - val_accuracy: 0.6106 - val_loss: 1.2041\n",
      "Epoch 41/50\n",
      "\u001b[1m32/32\u001b[0m \u001b[32m━━━━━━━━━━━━━━━━━━━━\u001b[0m\u001b[37m\u001b[0m \u001b[1m0s\u001b[0m 5ms/step - accuracy: 0.7510 - loss: 0.8008 - val_accuracy: 0.6195 - val_loss: 1.1369\n",
      "Epoch 42/50\n",
      "\u001b[1m32/32\u001b[0m \u001b[32m━━━━━━━━━━━━━━━━━━━━\u001b[0m\u001b[37m\u001b[0m \u001b[1m0s\u001b[0m 5ms/step - accuracy: 0.7578 - loss: 0.8042 - val_accuracy: 0.6372 - val_loss: 1.2208\n",
      "Epoch 43/50\n",
      "\u001b[1m32/32\u001b[0m \u001b[32m━━━━━━━━━━━━━━━━━━━━\u001b[0m\u001b[37m\u001b[0m \u001b[1m0s\u001b[0m 5ms/step - accuracy: 0.7462 - loss: 0.8452 - val_accuracy: 0.6372 - val_loss: 1.1362\n",
      "Epoch 44/50\n",
      "\u001b[1m32/32\u001b[0m \u001b[32m━━━━━━━━━━━━━━━━━━━━\u001b[0m\u001b[37m\u001b[0m \u001b[1m0s\u001b[0m 5ms/step - accuracy: 0.7410 - loss: 0.8497 - val_accuracy: 0.6106 - val_loss: 1.1561\n",
      "Epoch 45/50\n",
      "\u001b[1m32/32\u001b[0m \u001b[32m━━━━━━━━━━━━━━━━━━━━\u001b[0m\u001b[37m\u001b[0m \u001b[1m0s\u001b[0m 5ms/step - accuracy: 0.7510 - loss: 0.8233 - val_accuracy: 0.6726 - val_loss: 1.0398\n",
      "Epoch 46/50\n",
      "\u001b[1m32/32\u001b[0m \u001b[32m━━━━━━━━━━━━━━━━━━━━\u001b[0m\u001b[37m\u001b[0m \u001b[1m0s\u001b[0m 5ms/step - accuracy: 0.7394 - loss: 0.8390 - val_accuracy: 0.6549 - val_loss: 1.1226\n",
      "Epoch 47/50\n",
      "\u001b[1m32/32\u001b[0m \u001b[32m━━━━━━━━━━━━━━━━━━━━\u001b[0m\u001b[37m\u001b[0m \u001b[1m0s\u001b[0m 5ms/step - accuracy: 0.7604 - loss: 0.7620 - val_accuracy: 0.6726 - val_loss: 1.0799\n",
      "Epoch 48/50\n",
      "\u001b[1m32/32\u001b[0m \u001b[32m━━━━━━━━━━━━━━━━━━━━\u001b[0m\u001b[37m\u001b[0m \u001b[1m0s\u001b[0m 5ms/step - accuracy: 0.7567 - loss: 0.7806 - val_accuracy: 0.6372 - val_loss: 1.0362\n",
      "Epoch 49/50\n",
      "\u001b[1m32/32\u001b[0m \u001b[32m━━━━━━━━━━━━━━━━━━━━\u001b[0m\u001b[37m\u001b[0m \u001b[1m0s\u001b[0m 5ms/step - accuracy: 0.7393 - loss: 0.8157 - val_accuracy: 0.6018 - val_loss: 1.0645\n",
      "Epoch 50/50\n",
      "\u001b[1m32/32\u001b[0m \u001b[32m━━━━━━━━━━━━━━━━━━━━\u001b[0m\u001b[37m\u001b[0m \u001b[1m0s\u001b[0m 5ms/step - accuracy: 0.7758 - loss: 0.7132 - val_accuracy: 0.6814 - val_loss: 1.0533\n"
     ]
    },
    {
     "data": {
      "text/plain": [
       "<keras.src.callbacks.history.History at 0x1ff1f5ff800>"
      ]
     },
     "execution_count": 17,
     "metadata": {},
     "output_type": "execute_result"
    }
   ],
   "source": [
    "model.compile(loss='categorical_crossentropy', optimizer='adam', metrics=['accuracy'])\n",
    "model.fit(X_resampled, y_resampled_cat, epochs=50, batch_size=32, verbose=1, validation_split=0.1)"
   ]
  },
  {
   "cell_type": "code",
   "execution_count": 19,
   "id": "7cb3c7f9",
   "metadata": {},
   "outputs": [
    {
     "name": "stdout",
     "output_type": "stream",
     "text": [
      "\u001b[1m3/3\u001b[0m \u001b[32m━━━━━━━━━━━━━━━━━━━━\u001b[0m\u001b[37m\u001b[0m \u001b[1m0s\u001b[0m 15ms/step\n",
      "Neural Network Classification Report:\n",
      "              precision    recall  f1-score   support\n",
      "\n",
      "           0       0.50      1.00      0.67         1\n",
      "           1       0.25      1.00      0.40         1\n",
      "           2       0.75      0.75      0.75         4\n",
      "           3       1.00      0.75      0.86         4\n",
      "           4       0.57      0.57      0.57         7\n",
      "           5       0.67      0.67      0.67         3\n",
      "           6       1.00      0.22      0.36         9\n",
      "           7       0.50      1.00      0.67         2\n",
      "           8       0.33      1.00      0.50         2\n",
      "           9       1.00      0.50      0.67         2\n",
      "          10       0.60      0.75      0.67         4\n",
      "          11       0.67      0.80      0.73         5\n",
      "          12       1.00      1.00      1.00         4\n",
      "          13       1.00      1.00      1.00         1\n",
      "          14       0.80      1.00      0.89         4\n",
      "          15       0.80      0.80      0.80         5\n",
      "          16       0.80      0.89      0.84         9\n",
      "          17       0.50      0.33      0.40         3\n",
      "          18       0.80      0.80      0.80         5\n",
      "          19       1.00      1.00      1.00         3\n",
      "          20       1.00      0.50      0.67         4\n",
      "          21       0.67      0.67      0.67         3\n",
      "          22       0.67      0.50      0.57         4\n",
      "          23       1.00      0.67      0.80         3\n",
      "\n",
      "    accuracy                           0.71        92\n",
      "   macro avg       0.74      0.76      0.71        92\n",
      "weighted avg       0.78      0.71      0.70        92\n",
      "\n",
      "Accuracy: 0.7065217391304348\n"
     ]
    }
   ],
   "source": [
    "\n",
    "# Predict and evaluate\n",
    "y_pred_nn = model.predict(X_test)\n",
    "y_pred_labels = y_pred_nn.argmax(axis=1)\n",
    "\n",
    "target_names = [str(cls) for cls in label_encoder.classes_]\n",
    "\n",
    "print(\"Neural Network Classification Report:\")\n",
    "print(classification_report(y_test, y_pred_labels, target_names=target_names))\n",
    "print(\"Accuracy:\", accuracy_score(y_test, y_pred_labels))\n"
   ]
  },
  {
   "cell_type": "code",
   "execution_count": 22,
   "id": "c1b9173e",
   "metadata": {},
   "outputs": [
    {
     "name": "stdout",
     "output_type": "stream",
     "text": [
      "Precision (weighted): 0.7795\n",
      "Recall (weighted):    0.7065\n",
      "F1-score (weighted):  0.7003\n",
      "Test Accuracy: 0.7065\n"
     ]
    }
   ],
   "source": [
    "from sklearn.metrics import classification_report, accuracy_score, confusion_matrix, precision_score, recall_score, f1_score\n",
    "precision = precision_score(y_test, y_pred_labels, average='weighted')\n",
    "recall = recall_score(y_test, y_pred_labels, average='weighted')\n",
    "f1 = f1_score(y_test, y_pred_labels, average='weighted')\n",
    "\n",
    "print(f\"Precision (weighted): {precision:.4f}\")\n",
    "print(f\"Recall (weighted):    {recall:.4f}\")\n",
    "print(f\"F1-score (weighted):  {f1:.4f}\")\n",
    "\n",
    "acc = accuracy_score(y_test, y_pred_labels)\n",
    "print(f\"Test Accuracy: {acc:.4f}\")"
   ]
  },
  {
   "cell_type": "code",
   "execution_count": 23,
   "id": "82e48f79",
   "metadata": {},
   "outputs": [
    {
     "data": {
      "image/png": "[encoded data removed]",
      "text/plain": [
       "<Figure size 1400x1000 with 2 Axes>"
      ]
     },
     "metadata": {},
     "output_type": "display_data"
    }
   ],
   "source": [
    "import seaborn as sns\n",
    "import matplotlib.pyplot as plt\n",
    "cm = confusion_matrix(y_test, y_pred_labels)\n",
    "\n",
    "plt.figure(figsize=(14, 10))\n",
    "sns.heatmap(cm, annot=True, fmt='d', xticklabels=target_names, yticklabels=target_names, cmap='Blues')\n",
    "plt.title(\"Confusion Matrix\")\n",
    "plt.ylabel(\"True Label\")\n",
    "plt.xlabel(\"Predicted Label\")\n",
    "plt.xticks(rotation=90)\n",
    "plt.yticks(rotation=0)\n",
    "plt.tight_layout()\n",
    "plt.show()"
   ]
  },
  {
   "cell_type": "markdown",
   "id": "cc5f24d6",
   "metadata": {},
   "source": [
    "# XGBoost model with hyperparameter tuning and evaluates its performance, allowing you to compare it with the Random Forest results."
   ]
  },
  {
   "cell_type": "code",
   "execution_count": 7,
   "id": "0e711b77",
   "metadata": {},
   "outputs": [
    {
     "name": "stdout",
     "output_type": "stream",
     "text": [
      "Best Parameters: {'learning_rate': 0.1, 'max_depth': 3, 'n_estimators': 200}\n",
      "XGBoost Classification Report:\n",
      "                                 precision    recall  f1-score   support\n",
      "\n",
      "                           Acne       0.00      0.00      0.00         1\n",
      "                      Arthritis       0.00      0.00      0.00         1\n",
      "               Bronchial Asthma       1.00      0.50      0.67         4\n",
      "           Cervical spondylosis       1.00      0.75      0.86         4\n",
      "                    Chicken pox       0.83      0.71      0.77         7\n",
      "                    Common Cold       1.00      0.33      0.50         3\n",
      "                         Dengue       1.00      0.89      0.94         9\n",
      "          Dimorphic Hemorrhoids       0.67      1.00      0.80         2\n",
      "               Fungal infection       0.67      1.00      0.80         2\n",
      "                   Hypertension       1.00      0.50      0.67         2\n",
      "                       Impetigo       1.00      1.00      1.00         4\n",
      "                       Jaundice       1.00      0.60      0.75         5\n",
      "                        Malaria       1.00      1.00      1.00         4\n",
      "                       Migraine       1.00      1.00      1.00         1\n",
      "                      Pneumonia       0.67      1.00      0.80         4\n",
      "                      Psoriasis       1.00      0.80      0.89         5\n",
      "                        Typhoid       0.82      1.00      0.90         9\n",
      "                 Varicose Veins       0.25      0.67      0.36         3\n",
      "                        allergy       0.62      1.00      0.77         5\n",
      "                       diabetes       1.00      1.00      1.00         3\n",
      "                  drug reaction       0.75      0.75      0.75         4\n",
      "gastroesophageal reflux disease       1.00      0.67      0.80         3\n",
      "           peptic ulcer disease       0.75      0.75      0.75         4\n",
      "        urinary tract infection       1.00      0.67      0.80         3\n",
      "\n",
      "                       accuracy                           0.79        92\n",
      "                      macro avg       0.79      0.73      0.73        92\n",
      "                   weighted avg       0.85      0.79      0.80        92\n",
      "\n",
      "XGBoost Accuracy: 0.7934782608695652\n"
     ]
    },
    {
     "name": "stderr",
     "output_type": "stream",
     "text": [
      "c:\\Users\\ACER\\gitClones\\DoctorSathiProject\\env\\Lib\\site-packages\\sklearn\\metrics\\_classification.py:1565: UndefinedMetricWarning: Precision is ill-defined and being set to 0.0 in labels with no predicted samples. Use `zero_division` parameter to control this behavior.\n",
      "  _warn_prf(average, modifier, f\"{metric.capitalize()} is\", len(result))\n",
      "c:\\Users\\ACER\\gitClones\\DoctorSathiProject\\env\\Lib\\site-packages\\sklearn\\metrics\\_classification.py:1565: UndefinedMetricWarning: Precision is ill-defined and being set to 0.0 in labels with no predicted samples. Use `zero_division` parameter to control this behavior.\n",
      "  _warn_prf(average, modifier, f\"{metric.capitalize()} is\", len(result))\n",
      "c:\\Users\\ACER\\gitClones\\DoctorSathiProject\\env\\Lib\\site-packages\\sklearn\\metrics\\_classification.py:1565: UndefinedMetricWarning: Precision is ill-defined and being set to 0.0 in labels with no predicted samples. Use `zero_division` parameter to control this behavior.\n",
      "  _warn_prf(average, modifier, f\"{metric.capitalize()} is\", len(result))\n"
     ]
    }
   ],
   "source": [
    "from xgboost import XGBClassifier\n",
    "from sklearn.model_selection import GridSearchCV\n",
    "\n",
    "# Initialize XGBoost Classifier\n",
    "xgb = XGBClassifier(random_state=42, eval_metric='mlogloss')\n",
    "\n",
    "# Define parameter grid for tuning\n",
    "param_grid = {\n",
    "    'n_estimators': [100, 200],\n",
    "    'max_depth': [3, 5, 7],\n",
    "    'learning_rate': [0.01, 0.1]\n",
    "}\n",
    "\n",
    "# Perform Grid Search\n",
    "grid_search = GridSearchCV(xgb, param_grid, cv=5, scoring='accuracy', n_jobs=-1)\n",
    "grid_search.fit(X_resampled, y_resampled)\n",
    "\n",
    "# Best model\n",
    "best_xgb = grid_search.best_estimator_\n",
    "print(\"Best Parameters:\", grid_search.best_params_)\n",
    "\n",
    "# Predict and evaluate\n",
    "y_pred_xgb = best_xgb.predict(X_test)\n",
    "print(\"XGBoost Classification Report:\")\n",
    "print(classification_report(y_test, y_pred_xgb, target_names=label_encoder.classes_))\n",
    "print(\"XGBoost Accuracy:\", accuracy_score(y_test, y_pred_xgb))"
   ]
  },
  {
   "cell_type": "code",
   "execution_count": null,
   "id": "59caae6f",
   "metadata": {},
   "outputs": [],
   "source": []
  }
 ],
 "metadata": {
  "kernelspec": {
   "display_name": "env",
   "language": "python",
   "name": "python3"
  },
  "language_info": {
   "codemirror_mode": {
    "name": "ipython",
    "version": 3
   },
   "file_extension": ".py",
   "mimetype": "text/x-python",
   "name": "python",
   "nbconvert_exporter": "python",
   "pygments_lexer": "ipython3",
   "version": "3.12.4"
  }
 },
 "nbformat": 4,
 "nbformat_minor": 5
}
