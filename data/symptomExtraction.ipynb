{
 "cells": [
  {
   "cell_type": "code",
   "execution_count": 1,
   "id": "2bef4317",
   "metadata": {},
   "outputs": [],
   "source": [
    "import pandas as pd\n",
    "import joblib\n",
    "import os"
   ]
  },
  {
   "cell_type": "code",
   "execution_count": 2,
   "id": "a8fcc39e",
   "metadata": {},
   "outputs": [],
   "source": [
    "# Set paths\n",
    "project_root = os.path.dirname(os.getcwd())\n",
    "csv_path = os.path.join(project_root,'data', \"encoded_symptom_dataset.csv\")\n",
    "output_path = os.path.join(project_root, \"models\", \"symptom_list.pkl\")"
   ]
  },
  {
   "cell_type": "code",
   "execution_count": 3,
   "id": "d83a87ff",
   "metadata": {},
   "outputs": [],
   "source": [
    "# Load CSV\n",
    "data = pd.read_csv(csv_path)"
   ]
  },
  {
   "cell_type": "code",
   "execution_count": 4,
   "id": "df563e82",
   "metadata": {},
   "outputs": [],
   "source": [
    "# Example: \"fever, cough, joint pain\"\n",
    "all_symptoms = set()\n",
    "data[\"extracted_symptoms\"].dropna().apply(lambda x: all_symptoms.update(map(str.strip, x.split(','))))\n",
    "symptom_list = sorted(list(all_symptoms))"
   ]
  },
  {
   "cell_type": "code",
   "execution_count": null,
   "id": "2a6845b9",
   "metadata": {},
   "outputs": [],
   "source": [
    "# Example: ['fever', 'cough', 'joint pain']\n",
    "from itertools import chain\n",
    "\n",
    "all_symptoms = set(chain.from_iterable(data[\"extracted_symptoms\"].dropna()))\n",
    "symptom_list = sorted(list(all_symptoms))"
   ]
  },
  {
   "cell_type": "code",
   "execution_count": 6,
   "id": "caafadc3",
   "metadata": {},
   "outputs": [
    {
     "name": "stdout",
     "output_type": "stream",
     "text": [
      "Symptom list saved to c:\\Users\\ACER\\gitClones\\DoctorSathiProject\\models\\symptom_list.pkl\n"
     ]
    }
   ],
   "source": [
    "# Save to symptom_list.pkl\n",
    "os.makedirs(os.path.dirname(output_path), exist_ok=True)\n",
    "joblib.dump(symptom_list, output_path)\n",
    "print(f\"Symptom list saved to {output_path}\")"
   ]
  },
  {
   "cell_type": "code",
   "execution_count": null,
   "id": "cb2c7def",
   "metadata": {},
   "outputs": [],
   "source": []
  }
 ],
 "metadata": {
  "kernelspec": {
   "display_name": "env",
   "language": "python",
   "name": "python3"
  },
  "language_info": {
   "codemirror_mode": {
    "name": "ipython",
    "version": 3
   },
   "file_extension": ".py",
   "mimetype": "text/x-python",
   "name": "python",
   "nbconvert_exporter": "python",
   "pygments_lexer": "ipython3",
   "version": "3.12.4"
  }
 },
 "nbformat": 4,
 "nbformat_minor": 5
}
