{
 "cells": [
  {
   "cell_type": "code",
   "execution_count": 2,
   "id": "e1501fc9",
   "metadata": {},
   "outputs": [],
   "source": [
    "import pandas as pd\n",
    "import numpy as np"
   ]
  },
  {
   "cell_type": "code",
   "execution_count": 3,
   "id": "e72e6a19",
   "metadata": {},
   "outputs": [],
   "source": [
    "data = pd.read_csv('Symptom2Disease.csv')   "
   ]
  },
  {
   "cell_type": "code",
   "execution_count": 4,
   "id": "6bf8fd94",
   "metadata": {},
   "outputs": [
    {
     "data": {
      "text/html": [
       "<div>\n",
       "<style scoped>\n",
       "    .dataframe tbody tr th:only-of-type {\n",
       "        vertical-align: middle;\n",
       "    }\n",
       "\n",
       "    .dataframe tbody tr th {\n",
       "        vertical-align: top;\n",
       "    }\n",
       "\n",
       "    .dataframe thead th {\n",
       "        text-align: right;\n",
       "    }\n",
       "</style>\n",
       "<table border=\"1\" class=\"dataframe\">\n",
       "  <thead>\n",
       "    <tr style=\"text-align: right;\">\n",
       "      <th></th>\n",
       "      <th>Unnamed: 0</th>\n",
       "      <th>label</th>\n",
       "      <th>text</th>\n",
       "    </tr>\n",
       "  </thead>\n",
       "  <tbody>\n",
       "    <tr>\n",
       "      <th>0</th>\n",
       "      <td>0</td>\n",
       "      <td>Psoriasis</td>\n",
       "      <td>I have been experiencing a skin rash on my arm...</td>\n",
       "    </tr>\n",
       "    <tr>\n",
       "      <th>1</th>\n",
       "      <td>1</td>\n",
       "      <td>Psoriasis</td>\n",
       "      <td>My skin has been peeling, especially on my kne...</td>\n",
       "    </tr>\n",
       "    <tr>\n",
       "      <th>2</th>\n",
       "      <td>2</td>\n",
       "      <td>Psoriasis</td>\n",
       "      <td>I have been experiencing joint pain in my fing...</td>\n",
       "    </tr>\n",
       "    <tr>\n",
       "      <th>3</th>\n",
       "      <td>3</td>\n",
       "      <td>Psoriasis</td>\n",
       "      <td>There is a silver like dusting on my skin, esp...</td>\n",
       "    </tr>\n",
       "    <tr>\n",
       "      <th>4</th>\n",
       "      <td>4</td>\n",
       "      <td>Psoriasis</td>\n",
       "      <td>My nails have small dents or pits in them, and...</td>\n",
       "    </tr>\n",
       "    <tr>\n",
       "      <th>...</th>\n",
       "      <td>...</td>\n",
       "      <td>...</td>\n",
       "      <td>...</td>\n",
       "    </tr>\n",
       "    <tr>\n",
       "      <th>1195</th>\n",
       "      <td>295</td>\n",
       "      <td>diabetes</td>\n",
       "      <td>I'm shaking and trembling all over. I've lost ...</td>\n",
       "    </tr>\n",
       "    <tr>\n",
       "      <th>1196</th>\n",
       "      <td>296</td>\n",
       "      <td>diabetes</td>\n",
       "      <td>Particularly in the crevices of my skin, I hav...</td>\n",
       "    </tr>\n",
       "    <tr>\n",
       "      <th>1197</th>\n",
       "      <td>297</td>\n",
       "      <td>diabetes</td>\n",
       "      <td>I regularly experience these intense urges and...</td>\n",
       "    </tr>\n",
       "    <tr>\n",
       "      <th>1198</th>\n",
       "      <td>298</td>\n",
       "      <td>diabetes</td>\n",
       "      <td>I have trouble breathing, especially outside. ...</td>\n",
       "    </tr>\n",
       "    <tr>\n",
       "      <th>1199</th>\n",
       "      <td>299</td>\n",
       "      <td>diabetes</td>\n",
       "      <td>I constantly sneeze and have a dry cough. My i...</td>\n",
       "    </tr>\n",
       "  </tbody>\n",
       "</table>\n",
       "<p>1200 rows × 3 columns</p>\n",
       "</div>"
      ],
      "text/plain": [
       "      Unnamed: 0      label                                               text\n",
       "0              0  Psoriasis  I have been experiencing a skin rash on my arm...\n",
       "1              1  Psoriasis  My skin has been peeling, especially on my kne...\n",
       "2              2  Psoriasis  I have been experiencing joint pain in my fing...\n",
       "3              3  Psoriasis  There is a silver like dusting on my skin, esp...\n",
       "4              4  Psoriasis  My nails have small dents or pits in them, and...\n",
       "...          ...        ...                                                ...\n",
       "1195         295   diabetes  I'm shaking and trembling all over. I've lost ...\n",
       "1196         296   diabetes  Particularly in the crevices of my skin, I hav...\n",
       "1197         297   diabetes  I regularly experience these intense urges and...\n",
       "1198         298   diabetes  I have trouble breathing, especially outside. ...\n",
       "1199         299   diabetes  I constantly sneeze and have a dry cough. My i...\n",
       "\n",
       "[1200 rows x 3 columns]"
      ]
     },
     "execution_count": 4,
     "metadata": {},
     "output_type": "execute_result"
    }
   ],
   "source": [
    "df = pd.DataFrame(data)\n",
    "df"
   ]
  },
  {
   "cell_type": "code",
   "execution_count": 5,
   "id": "f9326880",
   "metadata": {},
   "outputs": [
    {
     "data": {
      "text/plain": [
       "array(['Psoriasis', 'Varicose Veins', 'Typhoid', 'Chicken pox',\n",
       "       'Impetigo', 'Dengue', 'Fungal infection', 'Common Cold',\n",
       "       'Pneumonia', 'Dimorphic Hemorrhoids', 'Arthritis', 'Acne',\n",
       "       'Bronchial Asthma', 'Hypertension', 'Migraine',\n",
       "       'Cervical spondylosis', 'Jaundice', 'Malaria',\n",
       "       'urinary tract infection', 'allergy',\n",
       "       'gastroesophageal reflux disease', 'drug reaction',\n",
       "       'peptic ulcer disease', 'diabetes'], dtype=object)"
      ]
     },
     "execution_count": 5,
     "metadata": {},
     "output_type": "execute_result"
    }
   ],
   "source": [
    "data['label'].unique()"
   ]
  },
  {
   "cell_type": "code",
   "execution_count": 6,
   "id": "162521e6",
   "metadata": {},
   "outputs": [
    {
     "data": {
      "text/plain": [
       "label\n",
       "Psoriasis                          50\n",
       "Varicose Veins                     50\n",
       "Typhoid                            50\n",
       "Chicken pox                        50\n",
       "Impetigo                           50\n",
       "Dengue                             50\n",
       "Fungal infection                   50\n",
       "Common Cold                        50\n",
       "Pneumonia                          50\n",
       "Dimorphic Hemorrhoids              50\n",
       "Arthritis                          50\n",
       "Acne                               50\n",
       "Bronchial Asthma                   50\n",
       "Hypertension                       50\n",
       "Migraine                           50\n",
       "Cervical spondylosis               50\n",
       "Jaundice                           50\n",
       "Malaria                            50\n",
       "urinary tract infection            50\n",
       "allergy                            50\n",
       "gastroesophageal reflux disease    50\n",
       "drug reaction                      50\n",
       "peptic ulcer disease               50\n",
       "diabetes                           50\n",
       "Name: count, dtype: int64"
      ]
     },
     "execution_count": 6,
     "metadata": {},
     "output_type": "execute_result"
    }
   ],
   "source": [
    "data['label'].value_counts()"
   ]
  },
  {
   "cell_type": "code",
   "execution_count": 7,
   "id": "4e0baa67",
   "metadata": {},
   "outputs": [
    {
     "name": "stdout",
     "output_type": "stream",
     "text": [
      "Sample cleaned text:\n",
      "                                                text  \\\n",
      "0  I have been experiencing a skin rash on my arm...   \n",
      "1  My skin has been peeling, especially on my kne...   \n",
      "2  I have been experiencing joint pain in my fing...   \n",
      "3  There is a silver like dusting on my skin, esp...   \n",
      "4  My nails have small dents or pits in them, and...   \n",
      "\n",
      "                                        cleaned_text  \n",
      "0  i have been experiencing a skin rash on my arm...  \n",
      "1  my skin has been peeling especially on my knee...  \n",
      "2  i have been experiencing joint pain in my fing...  \n",
      "3  there is a silver like dusting on my skin espe...  \n",
      "4  my nails have small dents or pits in them and ...  \n"
     ]
    }
   ],
   "source": [
    "import re\n",
    "\n",
    "def clean_text(text):\n",
    "    # Convert to lowercase\n",
    "    text = text.lower()\n",
    "    # Remove punctuation and special characters\n",
    "    text = re.sub(r'[^\\w\\s]', ' ', text)\n",
    "    # Correct common typos\n",
    "    text = text.replace(\"vomitting\", \"vomiting\").replace(\"apetite\", \"appetite\").replace(\"experince\", \"experience\")\n",
    "    text = text.replace(\"dischromic\", \"discolored\").replace(\"accompained\", \"accompanied\")\n",
    "    # Remove extra spaces\n",
    "    text = re.sub(r'\\s+', ' ', text).strip()\n",
    "    return text\n",
    "\n",
    "# Apply cleaning to the text column\n",
    "data[\"cleaned_text\"] = data[\"text\"].apply(clean_text)\n",
    "\n",
    "# Check a few examples\n",
    "print(\"Sample cleaned text:\")\n",
    "print(data[[\"text\", \"cleaned_text\"]].head())"
   ]
  },
  {
   "cell_type": "code",
   "execution_count": 8,
   "id": "158631f3",
   "metadata": {},
   "outputs": [
    {
     "name": "stdout",
     "output_type": "stream",
     "text": [
      "Sample extracted symptoms:\n",
      "                                        cleaned_text  \\\n",
      "0  i have been experiencing a skin rash on my arm...   \n",
      "1  my skin has been peeling especially on my knee...   \n",
      "2  i have been experiencing joint pain in my fing...   \n",
      "3  there is a silver like dusting on my skin espe...   \n",
      "4  my nails have small dents or pits in them and ...   \n",
      "\n",
      "                       extracted_symptoms  \n",
      "0  dry scaly patches itchy rash skin rash  \n",
      "1              peeling stinging sensation  \n",
      "2                         joint pain pain  \n",
      "3                     silver like dusting  \n",
      "4                                          \n"
     ]
    }
   ],
   "source": [
    "# Define a list of known symptoms (curated by inspecting the dataset)\n",
    "known_symptoms = [\n",
    "    \"skin rash\", \"itchy\", \"dry scaly patches\", \"peeling\", \"burning sensation\", \"stinging sensation\",\n",
    "    \"joint pain\", \"silver like dusting\", \"small dents in nails\", \"inflammation in nails\", \"thickened skin\",\n",
    "    \"deep cracks\", \"red inflamed skin\", \"sensitive skin\", \"fatigue\", \"malaise\", \"bleeding rash\", \"prone to infections\",\n",
    "    \"cramps\", \"prominent veins\", \"bruising\", \"swollen legs\", \"visible blood vessels\", \"obesity\", \"leg pain\",\n",
    "    \"constipation\", \"belly pain\", \"chills\", \"fever\", \"diarrhea\", \"abdominal cramps\", \"bloating\", \"vomiting\",\n",
    "    \"weight loss\", \"nausea\", \"headache\", \"difficulty breathing\", \"high fever\", \"red spots\", \"swollen lymph nodes\",\n",
    "    \"lethargic\", \"loss of appetite\", \"severe headache\", \"blistering sores\", \"yellow rust colored ooze\", \"painful sores\",\n",
    "    \"back pain\", \"pain behind eyes\", \"muscle pain\", \"dizziness\", \"sweating\", \"weakness\", \"discolored patches\",\n",
    "    \"nodular eruptions\", \"severe itching\", \"frequent urination\", \"pain during urination\", \"cloudy urine\", \"bloody urine\",\n",
    "    \"foul smelling urine\", \"pelvic pain\", \"low fever\", \"runny nose\", \"sneezing\", \"itchy eyes\", \"watery eyes\", \"coughing\",\n",
    "    \"sore throat\", \"swelling on face\", \"difficulty breathing\", \"nasal congestion\", \"chest pain\", \"loss of smell\",\n",
    "    \"loss of taste\", \"wheezing\", \"muscle aches\", \"body cramps\", \"difficulty swallowing\", \"flaky skin\", \"puffy eyes\",\n",
    "    \"stomach cramps\", \"heartburn\", \"indigestion\", \"sour taste\", \"bad breath\", \"belching\", \"burping\", \"chest tightness\",\n",
    "    \"hiccups\", \"lump in throat\", \"tingling sensation\", \"hoarseness\", \"food backing up\", \"abdominal pain\",\n",
    "    \"metallic taste\", \"change in taste\", \"change in smell\", \"tremors\", \"muscle twitching\", \"lightheadedness\",\n",
    "    \"confusion\", \"brain fog\", \"rapid heartbeat\", \"skin flaking\", \"hair loss\", \"dry scalp\", \"increased dandruff\",\n",
    "    \"dry skin\", \"decreased sex drive\", \"mood swings\", \"weight gain\", \"changes in appetite\", \"difficulty concentrating\",\n",
    "    \"memory issues\", \"bloody stools\", \"dark tarry stools\", \"anemia\", \"gnawing hunger\", \"spasms\", \"gas\",\n",
    "    \"changes in bowel movements\", \"increased thirst\", \"dry mouth\", \"blurred vision\", \"slow healing wounds\",\n",
    "    \"tingling in hands\", \"numbness\", \"palpitations\", \"skin irritations\", \"yeast infections\", \"persistent cough\"\n",
    "]\n",
    "\n",
    "# Define single-word symptoms (to handle cases like \"fever\", \"nausea\")\n",
    "single_word_symptoms = [\n",
    "    \"fever\", \"nausea\", \"vomiting\", \"diarrhea\", \"constipation\", \"fatigue\", \"weakness\", \"dizziness\", \"headache\",\n",
    "    \"coughing\", \"sneezing\", \"itching\", \"swelling\", \"pain\", \"rash\", \"chills\", \"sweating\", \"obesity\", \"malaise\",\n",
    "    \"lethargy\", \"anemia\", \"bloating\", \"gas\", \"hiccups\", \"hoarseness\", \"tremors\", \"confusion\", \"palpitations\"\n",
    "]\n",
    "\n",
    "def extract_symptoms_from_text(text, known_symptoms, single_word_symptoms):\n",
    "    \"\"\"\n",
    "    Extract symptoms from free-text descriptions.\n",
    "    Returns a space-separated string of unique symptoms.\n",
    "    \"\"\"\n",
    "    symptoms_found = set()\n",
    "    \n",
    "    # Split text into words\n",
    "    words = text.split()\n",
    "    \n",
    "    # Check for multi-word symptoms (e.g., \"skin rash\")\n",
    "    for symptom in known_symptoms:\n",
    "        if symptom in text:\n",
    "            symptoms_found.add(symptom)\n",
    "    \n",
    "    # Check for single-word symptoms (e.g., \"fever\")\n",
    "    for word in words:\n",
    "        if word in single_word_symptoms:\n",
    "            symptoms_found.add(word)\n",
    "    \n",
    "    # Join symptoms into a space-separated string\n",
    "    return \" \".join(sorted(symptoms_found)) if symptoms_found else \"\"\n",
    "\n",
    "# Apply symptom extraction\n",
    "data[\"extracted_symptoms\"] = data[\"cleaned_text\"].apply(\n",
    "    lambda x: extract_symptoms_from_text(x, known_symptoms, single_word_symptoms)\n",
    ")\n",
    "\n",
    "# Check a few examples\n",
    "print(\"Sample extracted symptoms:\")\n",
    "print(data[[\"cleaned_text\", \"extracted_symptoms\"]].head())"
   ]
  },
  {
   "cell_type": "code",
   "execution_count": 9,
   "id": "f15cb936",
   "metadata": {},
   "outputs": [
    {
     "name": "stdout",
     "output_type": "stream",
     "text": [
      "Deduplicated dataset shape: (477, 2)\n",
      "Deduplicated disease distribution:\n",
      " label\n",
      "Dengue                             48\n",
      "Typhoid                            43\n",
      "Chicken pox                        36\n",
      "allergy                            28\n",
      "Jaundice                           25\n",
      "Psoriasis                          25\n",
      "drug reaction                      22\n",
      "Impetigo                           21\n",
      "peptic ulcer disease               21\n",
      "Pneumonia                          20\n",
      "Malaria                            20\n",
      "Cervical spondylosis               20\n",
      "Bronchial Asthma                   19\n",
      "gastroesophageal reflux disease    18\n",
      "Common Cold                        18\n",
      "diabetes                           17\n",
      "Varicose Veins                     16\n",
      "urinary tract infection            14\n",
      "Fungal infection                   11\n",
      "Hypertension                       10\n",
      "Dimorphic Hemorrhoids               9\n",
      "Migraine                            7\n",
      "Acne                                5\n",
      "Arthritis                           4\n",
      "Name: count, dtype: int64\n"
     ]
    }
   ],
   "source": [
    "# Deduplicate based on label and extracted symptoms\n",
    "data_dedup = data[[\"label\", \"extracted_symptoms\"]].drop_duplicates()\n",
    "\n",
    "# Check the deduplicated dataset\n",
    "print(\"Deduplicated dataset shape:\", data_dedup.shape)\n",
    "print(\"Deduplicated disease distribution:\\n\", data_dedup[\"label\"].value_counts())"
   ]
  },
  {
   "cell_type": "code",
   "execution_count": 10,
   "id": "f89991f6",
   "metadata": {},
   "outputs": [
    {
     "name": "stdout",
     "output_type": "stream",
     "text": [
      "Preprocessed dataset saved as 'preprocessed_dataset.csv'\n"
     ]
    }
   ],
   "source": [
    "# Save the preprocessed dataset\n",
    "data_dedup.to_csv(\"preprocessed_dataset.csv\", index=False)\n",
    "print(\"Preprocessed dataset saved as 'preprocessed_dataset.csv'\")"
   ]
  },
  {
   "cell_type": "code",
   "execution_count": 11,
   "id": "f057b85b",
   "metadata": {},
   "outputs": [
    {
     "name": "stdout",
     "output_type": "stream",
     "text": [
      "Number of unique symptoms: 141\n",
      "Class balance after deduplication:\n",
      " label\n",
      "Dengue                             48\n",
      "Typhoid                            43\n",
      "Chicken pox                        36\n",
      "allergy                            28\n",
      "Jaundice                           25\n",
      "Psoriasis                          25\n",
      "drug reaction                      22\n",
      "Impetigo                           21\n",
      "peptic ulcer disease               21\n",
      "Pneumonia                          20\n",
      "Malaria                            20\n",
      "Cervical spondylosis               20\n",
      "Bronchial Asthma                   19\n",
      "gastroesophageal reflux disease    18\n",
      "Common Cold                        18\n",
      "diabetes                           17\n",
      "Varicose Veins                     16\n",
      "urinary tract infection            14\n",
      "Fungal infection                   11\n",
      "Hypertension                       10\n",
      "Dimorphic Hemorrhoids               9\n",
      "Migraine                            7\n",
      "Acne                                5\n",
      "Arthritis                           4\n",
      "Name: count, dtype: int64\n"
     ]
    }
   ],
   "source": [
    "# Analyze unique symptoms\n",
    "all_symptoms = set()\n",
    "data_dedup[\"extracted_symptoms\"].apply(lambda x: all_symptoms.update(x.split()))\n",
    "print(\"Number of unique symptoms:\", len(all_symptoms))\n",
    "\n",
    "# Check class balance\n",
    "print(\"Class balance after deduplication:\\n\", data_dedup[\"label\"].value_counts())"
   ]
  },
  {
   "cell_type": "code",
   "execution_count": null,
   "id": "e48ae6f6",
   "metadata": {},
   "outputs": [],
   "source": []
  }
 ],
 "metadata": {
  "kernelspec": {
   "display_name": "env",
   "language": "python",
   "name": "python3"
  },
  "language_info": {
   "codemirror_mode": {
    "name": "ipython",
    "version": 3
   },
   "file_extension": ".py",
   "mimetype": "text/x-python",
   "name": "python",
   "nbconvert_exporter": "python",
   "pygments_lexer": "ipython3",
   "version": "3.12.4"
  }
 },
 "nbformat": 4,
 "nbformat_minor": 5
}
