{
 "cells": [
  {
   "cell_type": "code",
   "execution_count": 1,
   "id": "3dcfdb53",
   "metadata": {},
   "outputs": [
    {
     "name": "stdout",
     "output_type": "stream",
     "text": [
      "<class 'pandas.core.frame.DataFrame'>\n",
      "RangeIndex: 477 entries, 0 to 476\n",
      "Data columns (total 2 columns):\n",
      " #   Column              Non-Null Count  Dtype \n",
      "---  ------              --------------  ----- \n",
      " 0   label               477 non-null    object\n",
      " 1   extracted_symptoms  457 non-null    object\n",
      "dtypes: object(2)\n",
      "memory usage: 7.6+ KB\n"
     ]
    },
    {
     "data": {
      "text/plain": [
       "(None,\n",
       "        label                      extracted_symptoms\n",
       " 0  Psoriasis  dry scaly patches itchy rash skin rash\n",
       " 1  Psoriasis              peeling stinging sensation\n",
       " 2  Psoriasis                         joint pain pain\n",
       " 3  Psoriasis                     silver like dusting\n",
       " 4  Psoriasis                                     NaN)"
      ]
     },
     "execution_count": 1,
     "metadata": {},
     "output_type": "execute_result"
    }
   ],
   "source": [
    "# Load and explore the uploaded dataset\n",
    "import pandas as pd\n",
    "\n",
    "# Load the CSV file\n",
    "df = pd.read_csv(\"preprocessed_dataset.csv\")\n",
    "\n",
    "# Show basic info and the first few rows\n",
    "df.info(), df.head()"
   ]
  },
  {
   "cell_type": "code",
   "execution_count": 2,
   "id": "4fe51d64",
   "metadata": {},
   "outputs": [
    {
     "data": {
      "text/html": [
       "<div>\n",
       "<style scoped>\n",
       "    .dataframe tbody tr th:only-of-type {\n",
       "        vertical-align: middle;\n",
       "    }\n",
       "\n",
       "    .dataframe tbody tr th {\n",
       "        vertical-align: top;\n",
       "    }\n",
       "\n",
       "    .dataframe thead th {\n",
       "        text-align: right;\n",
       "    }\n",
       "</style>\n",
       "<table border=\"1\" class=\"dataframe\">\n",
       "  <thead>\n",
       "    <tr style=\"text-align: right;\">\n",
       "      <th></th>\n",
       "      <th>label</th>\n",
       "      <th>symptom_tokens</th>\n",
       "    </tr>\n",
       "  </thead>\n",
       "  <tbody>\n",
       "    <tr>\n",
       "      <th>0</th>\n",
       "      <td>Psoriasis</td>\n",
       "      <td>[dry, scaly, patches, itchy, rash, skin, rash]</td>\n",
       "    </tr>\n",
       "    <tr>\n",
       "      <th>1</th>\n",
       "      <td>Psoriasis</td>\n",
       "      <td>[peeling, stinging, sensation]</td>\n",
       "    </tr>\n",
       "    <tr>\n",
       "      <th>2</th>\n",
       "      <td>Psoriasis</td>\n",
       "      <td>[joint, pain, pain]</td>\n",
       "    </tr>\n",
       "    <tr>\n",
       "      <th>3</th>\n",
       "      <td>Psoriasis</td>\n",
       "      <td>[silver, like, dusting]</td>\n",
       "    </tr>\n",
       "    <tr>\n",
       "      <th>5</th>\n",
       "      <td>Psoriasis</td>\n",
       "      <td>[deep, cracks]</td>\n",
       "    </tr>\n",
       "  </tbody>\n",
       "</table>\n",
       "</div>"
      ],
      "text/plain": [
       "       label                                  symptom_tokens\n",
       "0  Psoriasis  [dry, scaly, patches, itchy, rash, skin, rash]\n",
       "1  Psoriasis                  [peeling, stinging, sensation]\n",
       "2  Psoriasis                             [joint, pain, pain]\n",
       "3  Psoriasis                         [silver, like, dusting]\n",
       "5  Psoriasis                                  [deep, cracks]"
      ]
     },
     "execution_count": 2,
     "metadata": {},
     "output_type": "execute_result"
    }
   ],
   "source": [
    "# Drop rows with missing symptom information\n",
    "df_cleaned = df.dropna(subset=['extracted_symptoms']).copy()\n",
    "\n",
    "# Tokenize the symptoms (split by space), lowercase them\n",
    "df_cleaned['symptom_tokens'] = df_cleaned['extracted_symptoms'].apply(\n",
    "    lambda x: [symptom.strip().lower() for symptom in x.split()]\n",
    ")\n",
    "\n",
    "# Show a few examples\n",
    "df_cleaned[['label', 'symptom_tokens']].head()\n"
   ]
  },
  {
   "cell_type": "code",
   "execution_count": 3,
   "id": "2b34954a",
   "metadata": {},
   "outputs": [
    {
     "data": {
      "text/plain": [
       "((457, 3),\n",
       " label\n",
       " Dengue                             47\n",
       " Typhoid                            43\n",
       " Chicken pox                        35\n",
       " allergy                            27\n",
       " Jaundice                           25\n",
       " Psoriasis                          24\n",
       " drug reaction                      21\n",
       " Impetigo                           20\n",
       " peptic ulcer disease               20\n",
       " Malaria                            20\n",
       " Cervical spondylosis               19\n",
       " Pneumonia                          19\n",
       " Bronchial Asthma                   19\n",
       " gastroesophageal reflux disease    17\n",
       " Common Cold                        17\n",
       " diabetes                           16\n",
       " Varicose Veins                     15\n",
       " urinary tract infection            13\n",
       " Fungal infection                   10\n",
       " Hypertension                        9\n",
       " Dimorphic Hemorrhoids               8\n",
       " Migraine                            6\n",
       " Acne                                4\n",
       " Arthritis                           3\n",
       " Name: count, dtype: int64)"
      ]
     },
     "execution_count": 3,
     "metadata": {},
     "output_type": "execute_result"
    }
   ],
   "source": [
    "df_cleaned.shape , df_cleaned['label'].value_counts()"
   ]
  },
  {
   "cell_type": "code",
   "execution_count": 4,
   "id": "8043865f",
   "metadata": {},
   "outputs": [],
   "source": [
    "df_cleaned.to_csv(\"processed_symptom_dataset.csv\", index=False)"
   ]
  }
 ],
 "metadata": {
  "kernelspec": {
   "display_name": "env",
   "language": "python",
   "name": "python3"
  },
  "language_info": {
   "codemirror_mode": {
    "name": "ipython",
    "version": 3
   },
   "file_extension": ".py",
   "mimetype": "text/x-python",
   "name": "python",
   "nbconvert_exporter": "python",
   "pygments_lexer": "ipython3",
   "version": "3.12.4"
  }
 },
 "nbformat": 4,
 "nbformat_minor": 5
}
